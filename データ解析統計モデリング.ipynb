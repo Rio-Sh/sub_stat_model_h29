{
 "cells": [
  {
   "cell_type": "markdown",
   "metadata": {},
   "source": [
    "## 2章　確率分布と統計モデルの最尤推定"
   ]
  },
  {
   "cell_type": "code",
   "execution_count": 191,
   "metadata": {
    "collapsed": true
   },
   "outputs": [],
   "source": [
    "load(\"data.RData\")"
   ]
  },
  {
   "cell_type": "code",
   "execution_count": 192,
   "metadata": {},
   "outputs": [
    {
     "data": {
      "text/html": [
       "<ol class=list-inline>\n",
       "\t<li>2</li>\n",
       "\t<li>2</li>\n",
       "\t<li>4</li>\n",
       "\t<li>6</li>\n",
       "\t<li>4</li>\n",
       "\t<li>5</li>\n",
       "\t<li>2</li>\n",
       "\t<li>3</li>\n",
       "\t<li>1</li>\n",
       "\t<li>2</li>\n",
       "\t<li>0</li>\n",
       "\t<li>4</li>\n",
       "\t<li>3</li>\n",
       "\t<li>3</li>\n",
       "\t<li>3</li>\n",
       "\t<li>3</li>\n",
       "\t<li>4</li>\n",
       "\t<li>2</li>\n",
       "\t<li>7</li>\n",
       "\t<li>2</li>\n",
       "\t<li>4</li>\n",
       "\t<li>3</li>\n",
       "\t<li>3</li>\n",
       "\t<li>3</li>\n",
       "\t<li>4</li>\n",
       "\t<li>3</li>\n",
       "\t<li>7</li>\n",
       "\t<li>5</li>\n",
       "\t<li>3</li>\n",
       "\t<li>1</li>\n",
       "\t<li>7</li>\n",
       "\t<li>6</li>\n",
       "\t<li>4</li>\n",
       "\t<li>6</li>\n",
       "\t<li>5</li>\n",
       "\t<li>2</li>\n",
       "\t<li>4</li>\n",
       "\t<li>7</li>\n",
       "\t<li>2</li>\n",
       "\t<li>2</li>\n",
       "\t<li>6</li>\n",
       "\t<li>2</li>\n",
       "\t<li>4</li>\n",
       "\t<li>5</li>\n",
       "\t<li>4</li>\n",
       "\t<li>5</li>\n",
       "\t<li>1</li>\n",
       "\t<li>3</li>\n",
       "\t<li>2</li>\n",
       "\t<li>3</li>\n",
       "</ol>\n"
      ],
      "text/latex": [
       "\\begin{enumerate*}\n",
       "\\item 2\n",
       "\\item 2\n",
       "\\item 4\n",
       "\\item 6\n",
       "\\item 4\n",
       "\\item 5\n",
       "\\item 2\n",
       "\\item 3\n",
       "\\item 1\n",
       "\\item 2\n",
       "\\item 0\n",
       "\\item 4\n",
       "\\item 3\n",
       "\\item 3\n",
       "\\item 3\n",
       "\\item 3\n",
       "\\item 4\n",
       "\\item 2\n",
       "\\item 7\n",
       "\\item 2\n",
       "\\item 4\n",
       "\\item 3\n",
       "\\item 3\n",
       "\\item 3\n",
       "\\item 4\n",
       "\\item 3\n",
       "\\item 7\n",
       "\\item 5\n",
       "\\item 3\n",
       "\\item 1\n",
       "\\item 7\n",
       "\\item 6\n",
       "\\item 4\n",
       "\\item 6\n",
       "\\item 5\n",
       "\\item 2\n",
       "\\item 4\n",
       "\\item 7\n",
       "\\item 2\n",
       "\\item 2\n",
       "\\item 6\n",
       "\\item 2\n",
       "\\item 4\n",
       "\\item 5\n",
       "\\item 4\n",
       "\\item 5\n",
       "\\item 1\n",
       "\\item 3\n",
       "\\item 2\n",
       "\\item 3\n",
       "\\end{enumerate*}\n"
      ],
      "text/markdown": [
       "1. 2\n",
       "2. 2\n",
       "3. 4\n",
       "4. 6\n",
       "5. 4\n",
       "6. 5\n",
       "7. 2\n",
       "8. 3\n",
       "9. 1\n",
       "10. 2\n",
       "11. 0\n",
       "12. 4\n",
       "13. 3\n",
       "14. 3\n",
       "15. 3\n",
       "16. 3\n",
       "17. 4\n",
       "18. 2\n",
       "19. 7\n",
       "20. 2\n",
       "21. 4\n",
       "22. 3\n",
       "23. 3\n",
       "24. 3\n",
       "25. 4\n",
       "26. 3\n",
       "27. 7\n",
       "28. 5\n",
       "29. 3\n",
       "30. 1\n",
       "31. 7\n",
       "32. 6\n",
       "33. 4\n",
       "34. 6\n",
       "35. 5\n",
       "36. 2\n",
       "37. 4\n",
       "38. 7\n",
       "39. 2\n",
       "40. 2\n",
       "41. 6\n",
       "42. 2\n",
       "43. 4\n",
       "44. 5\n",
       "45. 4\n",
       "46. 5\n",
       "47. 1\n",
       "48. 3\n",
       "49. 2\n",
       "50. 3\n",
       "\n",
       "\n"
      ],
      "text/plain": [
       " [1] 2 2 4 6 4 5 2 3 1 2 0 4 3 3 3 3 4 2 7 2 4 3 3 3 4 3 7 5 3 1 7 6 4 6 5 2 4 7\n",
       "[39] 2 2 6 2 4 5 4 5 1 3 2 3"
      ]
     },
     "metadata": {},
     "output_type": "display_data"
    }
   ],
   "source": [
    "data"
   ]
  },
  {
   "cell_type": "code",
   "execution_count": 193,
   "metadata": {},
   "outputs": [
    {
     "data": {
      "text/html": [
       "50"
      ],
      "text/latex": [
       "50"
      ],
      "text/markdown": [
       "50"
      ],
      "text/plain": [
       "[1] 50"
      ]
     },
     "metadata": {},
     "output_type": "display_data"
    }
   ],
   "source": [
    "length(data)"
   ]
  },
  {
   "cell_type": "code",
   "execution_count": 194,
   "metadata": {},
   "outputs": [
    {
     "data": {
      "text/plain": [
       "   Min. 1st Qu.  Median    Mean 3rd Qu.    Max. \n",
       "   0.00    2.00    3.00    3.56    4.75    7.00 "
      ]
     },
     "metadata": {},
     "output_type": "display_data"
    }
   ],
   "source": [
    "summary(data)#概要"
   ]
  },
  {
   "cell_type": "code",
   "execution_count": 195,
   "metadata": {
    "scrolled": true
   },
   "outputs": [
    {
     "data": {
      "text/plain": [
       "data\n",
       " 0  1  2  3  4  5  6  7 \n",
       " 1  3 11 12 10  5  4  4 "
      ]
     },
     "metadata": {},
     "output_type": "display_data"
    }
   ],
   "source": [
    "table(data) #度数分布"
   ]
  },
  {
   "cell_type": "code",
   "execution_count": 196,
   "metadata": {
    "scrolled": true
   },
   "outputs": [
    {
     "name": "stdout",
     "output_type": "stream",
     "text": [
      " num [1:50] 2 2 4 6 4 5 2 3 1 2 ...\n"
     ]
    }
   ],
   "source": [
    "str(data) "
   ]
  },
  {
   "cell_type": "code",
   "execution_count": 197,
   "metadata": {
    "collapsed": true
   },
   "outputs": [],
   "source": [
    "options(repr.plot.width=4, repr.plot.height=4) # 図のサイズ変更"
   ]
  },
  {
   "cell_type": "code",
   "execution_count": 198,
   "metadata": {},
   "outputs": [
    {
     "data": {
      "image/png": "[encoded data removed]",
      "text/plain": [
       "Plot with title “Histogram of data”"
      ]
     },
     "metadata": {},
     "output_type": "display_data"
    }
   ],
   "source": [
    "hist(data, breaks = seq(-0.5, 9.5, 1))"
   ]
  },
  {
   "cell_type": "code",
   "execution_count": 199,
   "metadata": {},
   "outputs": [
    {
     "data": {
      "text/html": [
       "<ol class=list-inline>\n",
       "\t<li>-0.5</li>\n",
       "\t<li>0.5</li>\n",
       "\t<li>1.5</li>\n",
       "\t<li>2.5</li>\n",
       "\t<li>3.5</li>\n",
       "\t<li>4.5</li>\n",
       "\t<li>5.5</li>\n",
       "\t<li>6.5</li>\n",
       "\t<li>7.5</li>\n",
       "\t<li>8.5</li>\n",
       "\t<li>9.5</li>\n",
       "</ol>\n"
      ],
      "text/latex": [
       "\\begin{enumerate*}\n",
       "\\item -0.5\n",
       "\\item 0.5\n",
       "\\item 1.5\n",
       "\\item 2.5\n",
       "\\item 3.5\n",
       "\\item 4.5\n",
       "\\item 5.5\n",
       "\\item 6.5\n",
       "\\item 7.5\n",
       "\\item 8.5\n",
       "\\item 9.5\n",
       "\\end{enumerate*}\n"
      ],
      "text/markdown": [
       "1. -0.5\n",
       "2. 0.5\n",
       "3. 1.5\n",
       "4. 2.5\n",
       "5. 3.5\n",
       "6. 4.5\n",
       "7. 5.5\n",
       "8. 6.5\n",
       "9. 7.5\n",
       "10. 8.5\n",
       "11. 9.5\n",
       "\n",
       "\n"
      ],
      "text/plain": [
       " [1] -0.5  0.5  1.5  2.5  3.5  4.5  5.5  6.5  7.5  8.5  9.5"
      ]
     },
     "metadata": {},
     "output_type": "display_data"
    }
   ],
   "source": [
    "seq(-0.5, 9.5, 1)"
   ]
  },
  {
   "cell_type": "code",
   "execution_count": 200,
   "metadata": {},
   "outputs": [
    {
     "data": {
      "text/html": [
       "2.98612244897959"
      ],
      "text/latex": [
       "2.98612244897959"
      ],
      "text/markdown": [
       "2.98612244897959"
      ],
      "text/plain": [
       "[1] 2.986122"
      ]
     },
     "metadata": {},
     "output_type": "display_data"
    }
   ],
   "source": [
    "var(data) # 標本分散"
   ]
  },
  {
   "cell_type": "code",
   "execution_count": 201,
   "metadata": {},
   "outputs": [
    {
     "data": {
      "text/html": [
       "1.72804006000428"
      ],
      "text/latex": [
       "1.72804006000428"
      ],
      "text/markdown": [
       "1.72804006000428"
      ],
      "text/plain": [
       "[1] 1.72804"
      ]
     },
     "metadata": {},
     "output_type": "display_data"
    }
   ],
   "source": [
    "sd(data)　# 標本標準偏差"
   ]
  },
  {
   "cell_type": "code",
   "execution_count": 202,
   "metadata": {},
   "outputs": [
    {
     "data": {
      "text/html": [
       "1.72804006000428"
      ],
      "text/latex": [
       "1.72804006000428"
      ],
      "text/markdown": [
       "1.72804006000428"
      ],
      "text/plain": [
       "[1] 1.72804"
      ]
     },
     "metadata": {},
     "output_type": "display_data"
    }
   ],
   "source": [
    "sqrt(var(data))"
   ]
  },
  {
   "cell_type": "markdown",
   "metadata": {},
   "source": [
    "\n",
    "### 確率分布：確率変数の値とそれが出現する確率を対応させたもの\n",
    "\n",
    "### e.g. ある植物個体 $i$ の種子数 $y_i$ のようにばらつく変数　→　確率変数\n",
    "\n",
    "### 確率変数 $y_i=2$ といった値をとる時の確率はどのくらいなのかに興味がある"
   ]
  },
  {
   "cell_type": "markdown",
   "metadata": {},
   "source": [
    "# ポアソン分布：Poisson distribution\n",
    "\n",
    "### 平均3.56のポアソン分布にしたがって種子数が$y$ であると観測される確率を生成する"
   ]
  },
  {
   "cell_type": "code",
   "execution_count": 203,
   "metadata": {},
   "outputs": [
    {
     "data": {
      "image/png": "[encoded data removed]",
      "text/plain": [
       "plot without title"
      ]
     },
     "metadata": {},
     "output_type": "display_data"
    }
   ],
   "source": [
    "y <- 0:9\n",
    "prob <- dpois(y, lambda = 3.56) # ある個体種子数がy個である確率\n",
    "plot(x=y, y=prob, type = \"b\", lty=2) # type=\"b\" 丸と折れ線による図　lty=2 破線"
   ]
  },
  {
   "cell_type": "code",
   "execution_count": 204,
   "metadata": {},
   "outputs": [
    {
     "data": {
      "text/html": [
       "<ol class=list-inline>\n",
       "\t<li>0.0284388247141845</li>\n",
       "\t<li>0.101242215982497</li>\n",
       "\t<li>0.180211144448844</li>\n",
       "\t<li>0.213850558079295</li>\n",
       "\t<li>0.190326996690573</li>\n",
       "\t<li>0.135512821643688</li>\n",
       "\t<li>0.0804042741752548</li>\n",
       "\t<li>0.0408913165805582</li>\n",
       "\t<li>0.0181966358783484</li>\n",
       "\t<li>0.00719778041410224</li>\n",
       "</ol>\n"
      ],
      "text/latex": [
       "\\begin{enumerate*}\n",
       "\\item 0.0284388247141845\n",
       "\\item 0.101242215982497\n",
       "\\item 0.180211144448844\n",
       "\\item 0.213850558079295\n",
       "\\item 0.190326996690573\n",
       "\\item 0.135512821643688\n",
       "\\item 0.0804042741752548\n",
       "\\item 0.0408913165805582\n",
       "\\item 0.0181966358783484\n",
       "\\item 0.00719778041410224\n",
       "\\end{enumerate*}\n"
      ],
      "text/markdown": [
       "1. 0.0284388247141845\n",
       "2. 0.101242215982497\n",
       "3. 0.180211144448844\n",
       "4. 0.213850558079295\n",
       "5. 0.190326996690573\n",
       "6. 0.135512821643688\n",
       "7. 0.0804042741752548\n",
       "8. 0.0408913165805582\n",
       "9. 0.0181966358783484\n",
       "10. 0.00719778041410224\n",
       "\n",
       "\n"
      ],
      "text/plain": [
       " [1] 0.02843882 0.10124222 0.18021114 0.21385056 0.19032700 0.13551282\n",
       " [7] 0.08040427 0.04089132 0.01819664 0.00719778"
      ]
     },
     "metadata": {},
     "output_type": "display_data"
    }
   ],
   "source": [
    "prob"
   ]
  },
  {
   "cell_type": "code",
   "execution_count": 205,
   "metadata": {},
   "outputs": [
    {
     "data": {
      "image/png": "[encoded data removed]",
      "text/plain": [
       "plot without title"
      ]
     },
     "metadata": {},
     "output_type": "display_data"
    }
   ],
   "source": [
    "plot(y, prob*50, type = \"b\", lty=2, ylim =c(0,12))\n",
    "hist(data, breaks = seq(-0.5, 9.5, 1), add=T)"
   ]
  },
  {
   "cell_type": "markdown",
   "metadata": {},
   "source": [
    "それっぽい感じを定量的に示したい\n",
    "\n",
    "・どのような確率分布、統計モデルをつかって観測データが説明できるか\n",
    "\n",
    "・確率分布のパラメーターはどう決めれば良いのか\n",
    "\n",
    "・観測データを説明できる良い統計モデルはなにか"
   ]
  },
  {
   "cell_type": "markdown",
   "metadata": {},
   "source": [
    "## ポアソン分布について\n",
    " ## $$ p(y|\\lambda) = \\frac{\\lambda^yexp(-\\lambda)}{y!} $$\n",
    " \n",
    "### 平均がλのとき確率変数がyの値になる確率\n",
    "### ・λはポアソン分布の唯一のパラメーター\n",
    "\n",
    "### ・$ \\sum_{y=0}^\\infty p(y\\,|\\,\\lambda) = 1 $\n",
    "### ・分散と平均が等しい\n"
   ]
  },
  {
   "cell_type": "markdown",
   "metadata": {},
   "source": [
    "## なぜポアソン分布を使ったか\n",
    "\n",
    "### ・データが非負の整数　$y_i \\ge 0$  $y_i \\in N$\n",
    "\n",
    "### ・$y_i$ に下限があるが上限は不明\n",
    "\n",
    "### ・平均と分散がだいたい等しい"
   ]
  },
  {
   "cell_type": "markdown",
   "metadata": {},
   "source": [
    "## 最尤推定\n",
    "### 確率分布のパラメータを観測データに基づき推定する\n",
    "\n",
    "### 尤度（あてはまりのよさ）を最大にするように推定\n",
    "\n",
    "### あるλの値を決めた時にすべての個体についての$p(y_i\\,|\\, \\lambda)$の積\n",
    "\n",
    "### $$\\prod_ip(y_i\\,|\\,\\lambda)=\\prod_i\\frac{\\lambda^{y_i}exp(-\\lambda)}{y_i!}$$\n",
    "\n",
    "### データ全体　→　$\\{y_i\\}\\; or\\; \\{Y\\}$\n",
    "\n",
    "## 対数尤度関数\n",
    "$$logL(\\lambda) = \\sum_i(y_ilog\\lambda-\\lambda-\\sum_k^{y_i}logk)$$"
   ]
  },
  {
   "cell_type": "code",
   "execution_count": 206,
   "metadata": {},
   "outputs": [
    {
     "data": {
      "image/png": "[encoded data removed]",
      "text/plain": [
       "plot without title"
      ]
     },
     "metadata": {},
     "output_type": "display_data"
    }
   ],
   "source": [
    "options(repr.plot.width=9, repr.plot.height=9)\n",
    "par(mfrow=c(3,3))\n",
    "\n",
    "logL <- function(m) sum(dpois(data, m, log=TRUE))\n",
    "for (i in 0:8){\n",
    "    lambda = 2 + 0.4*i\n",
    "    prob <- dpois(y, lambda = lambda)\n",
    "    L <- round(logL(lambda),digit=2)\n",
    "    plot(y, prob*50, type = \"b\", lty=2, ylim =c(0,15))\n",
    "    hist(data,breaks = seq(-0.5,9,1),add=T)\n",
    "    text(7,11,paste('lambda =',lambda))\n",
    "    text(7,10,paste('logL = ', L))\n",
    "}"
   ]
  },
  {
   "cell_type": "code",
   "execution_count": 207,
   "metadata": {
    "collapsed": true
   },
   "outputs": [],
   "source": [
    "options(repr.plot.width=4, repr.plot.height=4)"
   ]
  },
  {
   "cell_type": "code",
   "execution_count": 208,
   "metadata": {},
   "outputs": [
    {
     "data": {
      "image/png": "[encoded data removed]",
      "text/plain": [
       "plot without title"
      ]
     },
     "metadata": {},
     "output_type": "display_data"
    }
   ],
   "source": [
    "logL <- function(m) sum(dpois(data, m, log=TRUE))\n",
    "lambda <- seq(2,5,0.1)\n",
    "plot(lambda, sapply(lambda, logL), type = \"l\", ylab = \"log likelihood function\")"
   ]
  },
  {
   "cell_type": "code",
   "execution_count": 209,
   "metadata": {},
   "outputs": [
    {
     "data": {
      "text/html": [
       "<ol class=list-inline>\n",
       "\t<li>1</li>\n",
       "\t<li>0</li>\n",
       "\t<li>2</li>\n",
       "\t<li>6</li>\n",
       "\t<li>3</li>\n",
       "\t<li>6</li>\n",
       "\t<li>5</li>\n",
       "\t<li>4</li>\n",
       "\t<li>5</li>\n",
       "\t<li>8</li>\n",
       "\t<li>4</li>\n",
       "\t<li>8</li>\n",
       "\t<li>5</li>\n",
       "\t<li>5</li>\n",
       "\t<li>4</li>\n",
       "\t<li>5</li>\n",
       "\t<li>1</li>\n",
       "\t<li>3</li>\n",
       "\t<li>5</li>\n",
       "\t<li>5</li>\n",
       "\t<li>6</li>\n",
       "\t<li>7</li>\n",
       "\t<li>6</li>\n",
       "\t<li>3</li>\n",
       "\t<li>3</li>\n",
       "\t<li>2</li>\n",
       "\t<li>3</li>\n",
       "\t<li>1</li>\n",
       "\t<li>7</li>\n",
       "\t<li>5</li>\n",
       "\t<li>6</li>\n",
       "\t<li>2</li>\n",
       "\t<li>5</li>\n",
       "\t<li>2</li>\n",
       "\t<li>4</li>\n",
       "\t<li>3</li>\n",
       "\t<li>3</li>\n",
       "\t<li>2</li>\n",
       "\t<li>5</li>\n",
       "\t<li>3</li>\n",
       "\t<li>4</li>\n",
       "\t<li>3</li>\n",
       "\t<li>0</li>\n",
       "\t<li>1</li>\n",
       "\t<li>1</li>\n",
       "\t<li>3</li>\n",
       "\t<li>2</li>\n",
       "\t<li>3</li>\n",
       "\t<li>4</li>\n",
       "\t<li>1</li>\n",
       "</ol>\n"
      ],
      "text/latex": [
       "\\begin{enumerate*}\n",
       "\\item 1\n",
       "\\item 0\n",
       "\\item 2\n",
       "\\item 6\n",
       "\\item 3\n",
       "\\item 6\n",
       "\\item 5\n",
       "\\item 4\n",
       "\\item 5\n",
       "\\item 8\n",
       "\\item 4\n",
       "\\item 8\n",
       "\\item 5\n",
       "\\item 5\n",
       "\\item 4\n",
       "\\item 5\n",
       "\\item 1\n",
       "\\item 3\n",
       "\\item 5\n",
       "\\item 5\n",
       "\\item 6\n",
       "\\item 7\n",
       "\\item 6\n",
       "\\item 3\n",
       "\\item 3\n",
       "\\item 2\n",
       "\\item 3\n",
       "\\item 1\n",
       "\\item 7\n",
       "\\item 5\n",
       "\\item 6\n",
       "\\item 2\n",
       "\\item 5\n",
       "\\item 2\n",
       "\\item 4\n",
       "\\item 3\n",
       "\\item 3\n",
       "\\item 2\n",
       "\\item 5\n",
       "\\item 3\n",
       "\\item 4\n",
       "\\item 3\n",
       "\\item 0\n",
       "\\item 1\n",
       "\\item 1\n",
       "\\item 3\n",
       "\\item 2\n",
       "\\item 3\n",
       "\\item 4\n",
       "\\item 1\n",
       "\\end{enumerate*}\n"
      ],
      "text/markdown": [
       "1. 1\n",
       "2. 0\n",
       "3. 2\n",
       "4. 6\n",
       "5. 3\n",
       "6. 6\n",
       "7. 5\n",
       "8. 4\n",
       "9. 5\n",
       "10. 8\n",
       "11. 4\n",
       "12. 8\n",
       "13. 5\n",
       "14. 5\n",
       "15. 4\n",
       "16. 5\n",
       "17. 1\n",
       "18. 3\n",
       "19. 5\n",
       "20. 5\n",
       "21. 6\n",
       "22. 7\n",
       "23. 6\n",
       "24. 3\n",
       "25. 3\n",
       "26. 2\n",
       "27. 3\n",
       "28. 1\n",
       "29. 7\n",
       "30. 5\n",
       "31. 6\n",
       "32. 2\n",
       "33. 5\n",
       "34. 2\n",
       "35. 4\n",
       "36. 3\n",
       "37. 3\n",
       "38. 2\n",
       "39. 5\n",
       "40. 3\n",
       "41. 4\n",
       "42. 3\n",
       "43. 0\n",
       "44. 1\n",
       "45. 1\n",
       "46. 3\n",
       "47. 2\n",
       "48. 3\n",
       "49. 4\n",
       "50. 1\n",
       "\n",
       "\n"
      ],
      "text/plain": [
       " [1] 1 0 2 6 3 6 5 4 5 8 4 8 5 5 4 5 1 3 5 5 6 7 6 3 3 2 3 1 7 5 6 2 5 2 4 3 3 2\n",
       "[39] 5 3 4 3 0 1 1 3 2 3 4 1"
      ]
     },
     "metadata": {},
     "output_type": "display_data"
    }
   ],
   "source": [
    "rpois(50, 3.5)"
   ]
  },
  {
   "cell_type": "markdown",
   "metadata": {},
   "source": []
  },
  {
   "cell_type": "markdown",
   "metadata": {
    "collapsed": true
   },
   "source": [
    "# 一般化線系モデル(generalized liner model, GLM)"
   ]
  },
  {
   "cell_type": "code",
   "execution_count": 210,
   "metadata": {
    "collapsed": true
   },
   "outputs": [],
   "source": [
    "d <- read.csv(\"data3a.csv\") # データフレーム 表のようにあつかえる"
   ]
  },
  {
   "cell_type": "code",
   "execution_count": 211,
   "metadata": {
    "scrolled": true
   },
   "outputs": [
    {
     "data": {
      "text/html": [
       "<table>\n",
       "<thead><tr><th scope=col>y</th><th scope=col>x</th><th scope=col>f</th></tr></thead>\n",
       "<tbody>\n",
       "\t<tr><td> 6   </td><td> 8.31</td><td>C    </td></tr>\n",
       "\t<tr><td> 6   </td><td> 9.44</td><td>C    </td></tr>\n",
       "\t<tr><td> 6   </td><td> 9.50</td><td>C    </td></tr>\n",
       "\t<tr><td>12   </td><td> 9.07</td><td>C    </td></tr>\n",
       "\t<tr><td>10   </td><td>10.16</td><td>C    </td></tr>\n",
       "\t<tr><td> 4   </td><td> 8.32</td><td>C    </td></tr>\n",
       "\t<tr><td> 9   </td><td>10.61</td><td>C    </td></tr>\n",
       "\t<tr><td> 9   </td><td>10.06</td><td>C    </td></tr>\n",
       "\t<tr><td> 9   </td><td> 9.93</td><td>C    </td></tr>\n",
       "\t<tr><td>11   </td><td>10.43</td><td>C    </td></tr>\n",
       "\t<tr><td> 6   </td><td>10.36</td><td>C    </td></tr>\n",
       "\t<tr><td>10   </td><td>10.15</td><td>C    </td></tr>\n",
       "\t<tr><td> 6   </td><td>10.92</td><td>C    </td></tr>\n",
       "\t<tr><td>10   </td><td> 8.85</td><td>C    </td></tr>\n",
       "\t<tr><td>11   </td><td> 9.42</td><td>C    </td></tr>\n",
       "\t<tr><td> 8   </td><td>11.11</td><td>C    </td></tr>\n",
       "\t<tr><td> 3   </td><td> 8.02</td><td>C    </td></tr>\n",
       "\t<tr><td> 8   </td><td>11.93</td><td>C    </td></tr>\n",
       "\t<tr><td> 5   </td><td> 8.55</td><td>C    </td></tr>\n",
       "\t<tr><td> 5   </td><td> 7.19</td><td>C    </td></tr>\n",
       "\t<tr><td> 4   </td><td> 9.83</td><td>C    </td></tr>\n",
       "\t<tr><td>11   </td><td>10.79</td><td>C    </td></tr>\n",
       "\t<tr><td> 5   </td><td> 8.89</td><td>C    </td></tr>\n",
       "\t<tr><td>10   </td><td>10.09</td><td>C    </td></tr>\n",
       "\t<tr><td> 6   </td><td>11.63</td><td>C    </td></tr>\n",
       "\t<tr><td> 6   </td><td>10.21</td><td>C    </td></tr>\n",
       "\t<tr><td> 7   </td><td> 9.45</td><td>C    </td></tr>\n",
       "\t<tr><td> 9   </td><td>10.44</td><td>C    </td></tr>\n",
       "\t<tr><td> 3   </td><td> 9.44</td><td>C    </td></tr>\n",
       "\t<tr><td>10   </td><td>10.48</td><td>C    </td></tr>\n",
       "\t<tr><td>⋮</td><td>⋮</td><td>⋮</td></tr>\n",
       "\t<tr><td>10   </td><td>10.54</td><td>T    </td></tr>\n",
       "\t<tr><td> 8   </td><td>11.30</td><td>T    </td></tr>\n",
       "\t<tr><td> 8   </td><td>12.40</td><td>T    </td></tr>\n",
       "\t<tr><td> 7   </td><td>10.18</td><td>T    </td></tr>\n",
       "\t<tr><td> 5   </td><td> 9.53</td><td>T    </td></tr>\n",
       "\t<tr><td> 6   </td><td>10.24</td><td>T    </td></tr>\n",
       "\t<tr><td> 8   </td><td>11.76</td><td>T    </td></tr>\n",
       "\t<tr><td> 9   </td><td> 9.52</td><td>T    </td></tr>\n",
       "\t<tr><td> 9   </td><td>10.40</td><td>T    </td></tr>\n",
       "\t<tr><td> 6   </td><td> 9.96</td><td>T    </td></tr>\n",
       "\t<tr><td> 7   </td><td>10.30</td><td>T    </td></tr>\n",
       "\t<tr><td>10   </td><td>11.54</td><td>T    </td></tr>\n",
       "\t<tr><td> 6   </td><td> 9.42</td><td>T    </td></tr>\n",
       "\t<tr><td>11   </td><td>11.28</td><td>T    </td></tr>\n",
       "\t<tr><td>11   </td><td> 9.73</td><td>T    </td></tr>\n",
       "\t<tr><td>11   </td><td>10.78</td><td>T    </td></tr>\n",
       "\t<tr><td> 5   </td><td>10.21</td><td>T    </td></tr>\n",
       "\t<tr><td> 6   </td><td>10.51</td><td>T    </td></tr>\n",
       "\t<tr><td> 4   </td><td>10.73</td><td>T    </td></tr>\n",
       "\t<tr><td> 5   </td><td> 8.85</td><td>T    </td></tr>\n",
       "\t<tr><td> 6   </td><td>11.20</td><td>T    </td></tr>\n",
       "\t<tr><td> 5   </td><td> 9.86</td><td>T    </td></tr>\n",
       "\t<tr><td> 8   </td><td>11.54</td><td>T    </td></tr>\n",
       "\t<tr><td> 5   </td><td>10.03</td><td>T    </td></tr>\n",
       "\t<tr><td> 9   </td><td>11.88</td><td>T    </td></tr>\n",
       "\t<tr><td> 8   </td><td> 9.15</td><td>T    </td></tr>\n",
       "\t<tr><td> 6   </td><td> 8.52</td><td>T    </td></tr>\n",
       "\t<tr><td> 8   </td><td>10.24</td><td>T    </td></tr>\n",
       "\t<tr><td> 7   </td><td>10.86</td><td>T    </td></tr>\n",
       "\t<tr><td> 9   </td><td> 9.97</td><td>T    </td></tr>\n",
       "</tbody>\n",
       "</table>\n"
      ],
      "text/latex": [
       "\\begin{tabular}{r|lll}\n",
       " y & x & f\\\\\n",
       "\\hline\n",
       "\t  6    &  8.31 & C    \\\\\n",
       "\t  6    &  9.44 & C    \\\\\n",
       "\t  6    &  9.50 & C    \\\\\n",
       "\t 12    &  9.07 & C    \\\\\n",
       "\t 10    & 10.16 & C    \\\\\n",
       "\t  4    &  8.32 & C    \\\\\n",
       "\t  9    & 10.61 & C    \\\\\n",
       "\t  9    & 10.06 & C    \\\\\n",
       "\t  9    &  9.93 & C    \\\\\n",
       "\t 11    & 10.43 & C    \\\\\n",
       "\t  6    & 10.36 & C    \\\\\n",
       "\t 10    & 10.15 & C    \\\\\n",
       "\t  6    & 10.92 & C    \\\\\n",
       "\t 10    &  8.85 & C    \\\\\n",
       "\t 11    &  9.42 & C    \\\\\n",
       "\t  8    & 11.11 & C    \\\\\n",
       "\t  3    &  8.02 & C    \\\\\n",
       "\t  8    & 11.93 & C    \\\\\n",
       "\t  5    &  8.55 & C    \\\\\n",
       "\t  5    &  7.19 & C    \\\\\n",
       "\t  4    &  9.83 & C    \\\\\n",
       "\t 11    & 10.79 & C    \\\\\n",
       "\t  5    &  8.89 & C    \\\\\n",
       "\t 10    & 10.09 & C    \\\\\n",
       "\t  6    & 11.63 & C    \\\\\n",
       "\t  6    & 10.21 & C    \\\\\n",
       "\t  7    &  9.45 & C    \\\\\n",
       "\t  9    & 10.44 & C    \\\\\n",
       "\t  3    &  9.44 & C    \\\\\n",
       "\t 10    & 10.48 & C    \\\\\n",
       "\t ⋮ & ⋮ & ⋮\\\\\n",
       "\t 10    & 10.54 & T    \\\\\n",
       "\t  8    & 11.30 & T    \\\\\n",
       "\t  8    & 12.40 & T    \\\\\n",
       "\t  7    & 10.18 & T    \\\\\n",
       "\t  5    &  9.53 & T    \\\\\n",
       "\t  6    & 10.24 & T    \\\\\n",
       "\t  8    & 11.76 & T    \\\\\n",
       "\t  9    &  9.52 & T    \\\\\n",
       "\t  9    & 10.40 & T    \\\\\n",
       "\t  6    &  9.96 & T    \\\\\n",
       "\t  7    & 10.30 & T    \\\\\n",
       "\t 10    & 11.54 & T    \\\\\n",
       "\t  6    &  9.42 & T    \\\\\n",
       "\t 11    & 11.28 & T    \\\\\n",
       "\t 11    &  9.73 & T    \\\\\n",
       "\t 11    & 10.78 & T    \\\\\n",
       "\t  5    & 10.21 & T    \\\\\n",
       "\t  6    & 10.51 & T    \\\\\n",
       "\t  4    & 10.73 & T    \\\\\n",
       "\t  5    &  8.85 & T    \\\\\n",
       "\t  6    & 11.20 & T    \\\\\n",
       "\t  5    &  9.86 & T    \\\\\n",
       "\t  8    & 11.54 & T    \\\\\n",
       "\t  5    & 10.03 & T    \\\\\n",
       "\t  9    & 11.88 & T    \\\\\n",
       "\t  8    &  9.15 & T    \\\\\n",
       "\t  6    &  8.52 & T    \\\\\n",
       "\t  8    & 10.24 & T    \\\\\n",
       "\t  7    & 10.86 & T    \\\\\n",
       "\t  9    &  9.97 & T    \\\\\n",
       "\\end{tabular}\n"
      ],
      "text/markdown": [
       "\n",
       "y | x | f | \n",
       "|---|---|---|---|---|---|---|---|---|---|---|---|---|---|---|---|---|---|---|---|---|---|---|---|---|---|---|---|---|---|---|---|---|---|---|---|---|---|---|---|---|---|---|---|---|---|---|---|---|---|---|---|---|---|---|---|---|---|---|---|---|\n",
       "|  6    |  8.31 | C     | \n",
       "|  6    |  9.44 | C     | \n",
       "|  6    |  9.50 | C     | \n",
       "| 12    |  9.07 | C     | \n",
       "| 10    | 10.16 | C     | \n",
       "|  4    |  8.32 | C     | \n",
       "|  9    | 10.61 | C     | \n",
       "|  9    | 10.06 | C     | \n",
       "|  9    |  9.93 | C     | \n",
       "| 11    | 10.43 | C     | \n",
       "|  6    | 10.36 | C     | \n",
       "| 10    | 10.15 | C     | \n",
       "|  6    | 10.92 | C     | \n",
       "| 10    |  8.85 | C     | \n",
       "| 11    |  9.42 | C     | \n",
       "|  8    | 11.11 | C     | \n",
       "|  3    |  8.02 | C     | \n",
       "|  8    | 11.93 | C     | \n",
       "|  5    |  8.55 | C     | \n",
       "|  5    |  7.19 | C     | \n",
       "|  4    |  9.83 | C     | \n",
       "| 11    | 10.79 | C     | \n",
       "|  5    |  8.89 | C     | \n",
       "| 10    | 10.09 | C     | \n",
       "|  6    | 11.63 | C     | \n",
       "|  6    | 10.21 | C     | \n",
       "|  7    |  9.45 | C     | \n",
       "|  9    | 10.44 | C     | \n",
       "|  3    |  9.44 | C     | \n",
       "| 10    | 10.48 | C     | \n",
       "| ⋮ | ⋮ | ⋮ | \n",
       "| 10    | 10.54 | T     | \n",
       "|  8    | 11.30 | T     | \n",
       "|  8    | 12.40 | T     | \n",
       "|  7    | 10.18 | T     | \n",
       "|  5    |  9.53 | T     | \n",
       "|  6    | 10.24 | T     | \n",
       "|  8    | 11.76 | T     | \n",
       "|  9    |  9.52 | T     | \n",
       "|  9    | 10.40 | T     | \n",
       "|  6    |  9.96 | T     | \n",
       "|  7    | 10.30 | T     | \n",
       "| 10    | 11.54 | T     | \n",
       "|  6    |  9.42 | T     | \n",
       "| 11    | 11.28 | T     | \n",
       "| 11    |  9.73 | T     | \n",
       "| 11    | 10.78 | T     | \n",
       "|  5    | 10.21 | T     | \n",
       "|  6    | 10.51 | T     | \n",
       "|  4    | 10.73 | T     | \n",
       "|  5    |  8.85 | T     | \n",
       "|  6    | 11.20 | T     | \n",
       "|  5    |  9.86 | T     | \n",
       "|  8    | 11.54 | T     | \n",
       "|  5    | 10.03 | T     | \n",
       "|  9    | 11.88 | T     | \n",
       "|  8    |  9.15 | T     | \n",
       "|  6    |  8.52 | T     | \n",
       "|  8    | 10.24 | T     | \n",
       "|  7    | 10.86 | T     | \n",
       "|  9    |  9.97 | T     | \n",
       "\n",
       "\n"
      ],
      "text/plain": [
       "    y  x     f\n",
       "1    6  8.31 C\n",
       "2    6  9.44 C\n",
       "3    6  9.50 C\n",
       "4   12  9.07 C\n",
       "5   10 10.16 C\n",
       "6    4  8.32 C\n",
       "7    9 10.61 C\n",
       "8    9 10.06 C\n",
       "9    9  9.93 C\n",
       "10  11 10.43 C\n",
       "11   6 10.36 C\n",
       "12  10 10.15 C\n",
       "13   6 10.92 C\n",
       "14  10  8.85 C\n",
       "15  11  9.42 C\n",
       "16   8 11.11 C\n",
       "17   3  8.02 C\n",
       "18   8 11.93 C\n",
       "19   5  8.55 C\n",
       "20   5  7.19 C\n",
       "21   4  9.83 C\n",
       "22  11 10.79 C\n",
       "23   5  8.89 C\n",
       "24  10 10.09 C\n",
       "25   6 11.63 C\n",
       "26   6 10.21 C\n",
       "27   7  9.45 C\n",
       "28   9 10.44 C\n",
       "29   3  9.44 C\n",
       "30  10 10.48 C\n",
       "⋮   ⋮  ⋮     ⋮\n",
       "71  10 10.54 T\n",
       "72   8 11.30 T\n",
       "73   8 12.40 T\n",
       "74   7 10.18 T\n",
       "75   5  9.53 T\n",
       "76   6 10.24 T\n",
       "77   8 11.76 T\n",
       "78   9  9.52 T\n",
       "79   9 10.40 T\n",
       "80   6  9.96 T\n",
       "81   7 10.30 T\n",
       "82  10 11.54 T\n",
       "83   6  9.42 T\n",
       "84  11 11.28 T\n",
       "85  11  9.73 T\n",
       "86  11 10.78 T\n",
       "87   5 10.21 T\n",
       "88   6 10.51 T\n",
       "89   4 10.73 T\n",
       "90   5  8.85 T\n",
       "91   6 11.20 T\n",
       "92   5  9.86 T\n",
       "93   8 11.54 T\n",
       "94   5 10.03 T\n",
       "95   9 11.88 T\n",
       "96   8  9.15 T\n",
       "97   6  8.52 T\n",
       "98   8 10.24 T\n",
       "99   7 10.86 T\n",
       "100  9  9.97 T"
      ]
     },
     "metadata": {},
     "output_type": "display_data"
    }
   ],
   "source": [
    "d"
   ]
  },
  {
   "cell_type": "code",
   "execution_count": 212,
   "metadata": {},
   "outputs": [
    {
     "data": {
      "text/html": [
       "<ol class=list-inline>\n",
       "\t<li>8.31</li>\n",
       "\t<li>9.44</li>\n",
       "\t<li>9.5</li>\n",
       "\t<li>9.07</li>\n",
       "\t<li>10.16</li>\n",
       "\t<li>8.32</li>\n",
       "\t<li>10.61</li>\n",
       "\t<li>10.06</li>\n",
       "\t<li>9.93</li>\n",
       "\t<li>10.43</li>\n",
       "\t<li>10.36</li>\n",
       "\t<li>10.15</li>\n",
       "\t<li>10.92</li>\n",
       "\t<li>8.85</li>\n",
       "\t<li>9.42</li>\n",
       "\t<li>11.11</li>\n",
       "\t<li>8.02</li>\n",
       "\t<li>11.93</li>\n",
       "\t<li>8.55</li>\n",
       "\t<li>7.19</li>\n",
       "\t<li>9.83</li>\n",
       "\t<li>10.79</li>\n",
       "\t<li>8.89</li>\n",
       "\t<li>10.09</li>\n",
       "\t<li>11.63</li>\n",
       "\t<li>10.21</li>\n",
       "\t<li>9.45</li>\n",
       "\t<li>10.44</li>\n",
       "\t<li>9.44</li>\n",
       "\t<li>10.48</li>\n",
       "\t<li>9.43</li>\n",
       "\t<li>10.32</li>\n",
       "\t<li>10.33</li>\n",
       "\t<li>8.5</li>\n",
       "\t<li>9.41</li>\n",
       "\t<li>8.96</li>\n",
       "\t<li>9.67</li>\n",
       "\t<li>10.26</li>\n",
       "\t<li>10.36</li>\n",
       "\t<li>11.8</li>\n",
       "\t<li>10.94</li>\n",
       "\t<li>10.25</li>\n",
       "\t<li>8.74</li>\n",
       "\t<li>10.46</li>\n",
       "\t<li>9.37</li>\n",
       "\t<li>9.74</li>\n",
       "\t<li>8.95</li>\n",
       "\t<li>8.74</li>\n",
       "\t<li>11.32</li>\n",
       "\t<li>9.25</li>\n",
       "\t<li>10.14</li>\n",
       "\t<li>9.05</li>\n",
       "\t<li>9.89</li>\n",
       "\t<li>8.76</li>\n",
       "\t<li>12.04</li>\n",
       "\t<li>9.91</li>\n",
       "\t<li>9.84</li>\n",
       "\t<li>11.87</li>\n",
       "\t<li>10.16</li>\n",
       "\t<li>9.34</li>\n",
       "\t<li>10.17</li>\n",
       "\t<li>10.99</li>\n",
       "\t<li>9.19</li>\n",
       "\t<li>10.67</li>\n",
       "\t<li>10.96</li>\n",
       "\t<li>10.55</li>\n",
       "\t<li>9.69</li>\n",
       "\t<li>10.91</li>\n",
       "\t<li>9.6</li>\n",
       "\t<li>12.37</li>\n",
       "\t<li>10.54</li>\n",
       "\t<li>11.3</li>\n",
       "\t<li>12.4</li>\n",
       "\t<li>10.18</li>\n",
       "\t<li>9.53</li>\n",
       "\t<li>10.24</li>\n",
       "\t<li>11.76</li>\n",
       "\t<li>9.52</li>\n",
       "\t<li>10.4</li>\n",
       "\t<li>9.96</li>\n",
       "\t<li>10.3</li>\n",
       "\t<li>11.54</li>\n",
       "\t<li>9.42</li>\n",
       "\t<li>11.28</li>\n",
       "\t<li>9.73</li>\n",
       "\t<li>10.78</li>\n",
       "\t<li>10.21</li>\n",
       "\t<li>10.51</li>\n",
       "\t<li>10.73</li>\n",
       "\t<li>8.85</li>\n",
       "\t<li>11.2</li>\n",
       "\t<li>9.86</li>\n",
       "\t<li>11.54</li>\n",
       "\t<li>10.03</li>\n",
       "\t<li>11.88</li>\n",
       "\t<li>9.15</li>\n",
       "\t<li>8.52</li>\n",
       "\t<li>10.24</li>\n",
       "\t<li>10.86</li>\n",
       "\t<li>9.97</li>\n",
       "</ol>\n"
      ],
      "text/latex": [
       "\\begin{enumerate*}\n",
       "\\item 8.31\n",
       "\\item 9.44\n",
       "\\item 9.5\n",
       "\\item 9.07\n",
       "\\item 10.16\n",
       "\\item 8.32\n",
       "\\item 10.61\n",
       "\\item 10.06\n",
       "\\item 9.93\n",
       "\\item 10.43\n",
       "\\item 10.36\n",
       "\\item 10.15\n",
       "\\item 10.92\n",
       "\\item 8.85\n",
       "\\item 9.42\n",
       "\\item 11.11\n",
       "\\item 8.02\n",
       "\\item 11.93\n",
       "\\item 8.55\n",
       "\\item 7.19\n",
       "\\item 9.83\n",
       "\\item 10.79\n",
       "\\item 8.89\n",
       "\\item 10.09\n",
       "\\item 11.63\n",
       "\\item 10.21\n",
       "\\item 9.45\n",
       "\\item 10.44\n",
       "\\item 9.44\n",
       "\\item 10.48\n",
       "\\item 9.43\n",
       "\\item 10.32\n",
       "\\item 10.33\n",
       "\\item 8.5\n",
       "\\item 9.41\n",
       "\\item 8.96\n",
       "\\item 9.67\n",
       "\\item 10.26\n",
       "\\item 10.36\n",
       "\\item 11.8\n",
       "\\item 10.94\n",
       "\\item 10.25\n",
       "\\item 8.74\n",
       "\\item 10.46\n",
       "\\item 9.37\n",
       "\\item 9.74\n",
       "\\item 8.95\n",
       "\\item 8.74\n",
       "\\item 11.32\n",
       "\\item 9.25\n",
       "\\item 10.14\n",
       "\\item 9.05\n",
       "\\item 9.89\n",
       "\\item 8.76\n",
       "\\item 12.04\n",
       "\\item 9.91\n",
       "\\item 9.84\n",
       "\\item 11.87\n",
       "\\item 10.16\n",
       "\\item 9.34\n",
       "\\item 10.17\n",
       "\\item 10.99\n",
       "\\item 9.19\n",
       "\\item 10.67\n",
       "\\item 10.96\n",
       "\\item 10.55\n",
       "\\item 9.69\n",
       "\\item 10.91\n",
       "\\item 9.6\n",
       "\\item 12.37\n",
       "\\item 10.54\n",
       "\\item 11.3\n",
       "\\item 12.4\n",
       "\\item 10.18\n",
       "\\item 9.53\n",
       "\\item 10.24\n",
       "\\item 11.76\n",
       "\\item 9.52\n",
       "\\item 10.4\n",
       "\\item 9.96\n",
       "\\item 10.3\n",
       "\\item 11.54\n",
       "\\item 9.42\n",
       "\\item 11.28\n",
       "\\item 9.73\n",
       "\\item 10.78\n",
       "\\item 10.21\n",
       "\\item 10.51\n",
       "\\item 10.73\n",
       "\\item 8.85\n",
       "\\item 11.2\n",
       "\\item 9.86\n",
       "\\item 11.54\n",
       "\\item 10.03\n",
       "\\item 11.88\n",
       "\\item 9.15\n",
       "\\item 8.52\n",
       "\\item 10.24\n",
       "\\item 10.86\n",
       "\\item 9.97\n",
       "\\end{enumerate*}\n"
      ],
      "text/markdown": [
       "1. 8.31\n",
       "2. 9.44\n",
       "3. 9.5\n",
       "4. 9.07\n",
       "5. 10.16\n",
       "6. 8.32\n",
       "7. 10.61\n",
       "8. 10.06\n",
       "9. 9.93\n",
       "10. 10.43\n",
       "11. 10.36\n",
       "12. 10.15\n",
       "13. 10.92\n",
       "14. 8.85\n",
       "15. 9.42\n",
       "16. 11.11\n",
       "17. 8.02\n",
       "18. 11.93\n",
       "19. 8.55\n",
       "20. 7.19\n",
       "21. 9.83\n",
       "22. 10.79\n",
       "23. 8.89\n",
       "24. 10.09\n",
       "25. 11.63\n",
       "26. 10.21\n",
       "27. 9.45\n",
       "28. 10.44\n",
       "29. 9.44\n",
       "30. 10.48\n",
       "31. 9.43\n",
       "32. 10.32\n",
       "33. 10.33\n",
       "34. 8.5\n",
       "35. 9.41\n",
       "36. 8.96\n",
       "37. 9.67\n",
       "38. 10.26\n",
       "39. 10.36\n",
       "40. 11.8\n",
       "41. 10.94\n",
       "42. 10.25\n",
       "43. 8.74\n",
       "44. 10.46\n",
       "45. 9.37\n",
       "46. 9.74\n",
       "47. 8.95\n",
       "48. 8.74\n",
       "49. 11.32\n",
       "50. 9.25\n",
       "51. 10.14\n",
       "52. 9.05\n",
       "53. 9.89\n",
       "54. 8.76\n",
       "55. 12.04\n",
       "56. 9.91\n",
       "57. 9.84\n",
       "58. 11.87\n",
       "59. 10.16\n",
       "60. 9.34\n",
       "61. 10.17\n",
       "62. 10.99\n",
       "63. 9.19\n",
       "64. 10.67\n",
       "65. 10.96\n",
       "66. 10.55\n",
       "67. 9.69\n",
       "68. 10.91\n",
       "69. 9.6\n",
       "70. 12.37\n",
       "71. 10.54\n",
       "72. 11.3\n",
       "73. 12.4\n",
       "74. 10.18\n",
       "75. 9.53\n",
       "76. 10.24\n",
       "77. 11.76\n",
       "78. 9.52\n",
       "79. 10.4\n",
       "80. 9.96\n",
       "81. 10.3\n",
       "82. 11.54\n",
       "83. 9.42\n",
       "84. 11.28\n",
       "85. 9.73\n",
       "86. 10.78\n",
       "87. 10.21\n",
       "88. 10.51\n",
       "89. 10.73\n",
       "90. 8.85\n",
       "91. 11.2\n",
       "92. 9.86\n",
       "93. 11.54\n",
       "94. 10.03\n",
       "95. 11.88\n",
       "96. 9.15\n",
       "97. 8.52\n",
       "98. 10.24\n",
       "99. 10.86\n",
       "100. 9.97\n",
       "\n",
       "\n"
      ],
      "text/plain": [
       "  [1]  8.31  9.44  9.50  9.07 10.16  8.32 10.61 10.06  9.93 10.43 10.36 10.15\n",
       " [13] 10.92  8.85  9.42 11.11  8.02 11.93  8.55  7.19  9.83 10.79  8.89 10.09\n",
       " [25] 11.63 10.21  9.45 10.44  9.44 10.48  9.43 10.32 10.33  8.50  9.41  8.96\n",
       " [37]  9.67 10.26 10.36 11.80 10.94 10.25  8.74 10.46  9.37  9.74  8.95  8.74\n",
       " [49] 11.32  9.25 10.14  9.05  9.89  8.76 12.04  9.91  9.84 11.87 10.16  9.34\n",
       " [61] 10.17 10.99  9.19 10.67 10.96 10.55  9.69 10.91  9.60 12.37 10.54 11.30\n",
       " [73] 12.40 10.18  9.53 10.24 11.76  9.52 10.40  9.96 10.30 11.54  9.42 11.28\n",
       " [85]  9.73 10.78 10.21 10.51 10.73  8.85 11.20  9.86 11.54 10.03 11.88  9.15\n",
       " [97]  8.52 10.24 10.86  9.97"
      ]
     },
     "metadata": {},
     "output_type": "display_data"
    }
   ],
   "source": [
    "d$x"
   ]
  },
  {
   "cell_type": "code",
   "execution_count": 213,
   "metadata": {},
   "outputs": [
    {
     "data": {
      "text/html": [
       "<ol class=list-inline>\n",
       "\t<li>C</li>\n",
       "\t<li>C</li>\n",
       "\t<li>C</li>\n",
       "\t<li>C</li>\n",
       "\t<li>C</li>\n",
       "\t<li>C</li>\n",
       "\t<li>C</li>\n",
       "\t<li>C</li>\n",
       "\t<li>C</li>\n",
       "\t<li>C</li>\n",
       "\t<li>C</li>\n",
       "\t<li>C</li>\n",
       "\t<li>C</li>\n",
       "\t<li>C</li>\n",
       "\t<li>C</li>\n",
       "\t<li>C</li>\n",
       "\t<li>C</li>\n",
       "\t<li>C</li>\n",
       "\t<li>C</li>\n",
       "\t<li>C</li>\n",
       "\t<li>C</li>\n",
       "\t<li>C</li>\n",
       "\t<li>C</li>\n",
       "\t<li>C</li>\n",
       "\t<li>C</li>\n",
       "\t<li>C</li>\n",
       "\t<li>C</li>\n",
       "\t<li>C</li>\n",
       "\t<li>C</li>\n",
       "\t<li>C</li>\n",
       "\t<li>C</li>\n",
       "\t<li>C</li>\n",
       "\t<li>C</li>\n",
       "\t<li>C</li>\n",
       "\t<li>C</li>\n",
       "\t<li>C</li>\n",
       "\t<li>C</li>\n",
       "\t<li>C</li>\n",
       "\t<li>C</li>\n",
       "\t<li>C</li>\n",
       "\t<li>C</li>\n",
       "\t<li>C</li>\n",
       "\t<li>C</li>\n",
       "\t<li>C</li>\n",
       "\t<li>C</li>\n",
       "\t<li>C</li>\n",
       "\t<li>C</li>\n",
       "\t<li>C</li>\n",
       "\t<li>C</li>\n",
       "\t<li>C</li>\n",
       "\t<li>T</li>\n",
       "\t<li>T</li>\n",
       "\t<li>T</li>\n",
       "\t<li>T</li>\n",
       "\t<li>T</li>\n",
       "\t<li>T</li>\n",
       "\t<li>T</li>\n",
       "\t<li>T</li>\n",
       "\t<li>T</li>\n",
       "\t<li>T</li>\n",
       "\t<li>T</li>\n",
       "\t<li>T</li>\n",
       "\t<li>T</li>\n",
       "\t<li>T</li>\n",
       "\t<li>T</li>\n",
       "\t<li>T</li>\n",
       "\t<li>T</li>\n",
       "\t<li>T</li>\n",
       "\t<li>T</li>\n",
       "\t<li>T</li>\n",
       "\t<li>T</li>\n",
       "\t<li>T</li>\n",
       "\t<li>T</li>\n",
       "\t<li>T</li>\n",
       "\t<li>T</li>\n",
       "\t<li>T</li>\n",
       "\t<li>T</li>\n",
       "\t<li>T</li>\n",
       "\t<li>T</li>\n",
       "\t<li>T</li>\n",
       "\t<li>T</li>\n",
       "\t<li>T</li>\n",
       "\t<li>T</li>\n",
       "\t<li>T</li>\n",
       "\t<li>T</li>\n",
       "\t<li>T</li>\n",
       "\t<li>T</li>\n",
       "\t<li>T</li>\n",
       "\t<li>T</li>\n",
       "\t<li>T</li>\n",
       "\t<li>T</li>\n",
       "\t<li>T</li>\n",
       "\t<li>T</li>\n",
       "\t<li>T</li>\n",
       "\t<li>T</li>\n",
       "\t<li>T</li>\n",
       "\t<li>T</li>\n",
       "\t<li>T</li>\n",
       "\t<li>T</li>\n",
       "\t<li>T</li>\n",
       "</ol>\n"
      ],
      "text/latex": [
       "\\begin{enumerate*}\n",
       "\\item C\n",
       "\\item C\n",
       "\\item C\n",
       "\\item C\n",
       "\\item C\n",
       "\\item C\n",
       "\\item C\n",
       "\\item C\n",
       "\\item C\n",
       "\\item C\n",
       "\\item C\n",
       "\\item C\n",
       "\\item C\n",
       "\\item C\n",
       "\\item C\n",
       "\\item C\n",
       "\\item C\n",
       "\\item C\n",
       "\\item C\n",
       "\\item C\n",
       "\\item C\n",
       "\\item C\n",
       "\\item C\n",
       "\\item C\n",
       "\\item C\n",
       "\\item C\n",
       "\\item C\n",
       "\\item C\n",
       "\\item C\n",
       "\\item C\n",
       "\\item C\n",
       "\\item C\n",
       "\\item C\n",
       "\\item C\n",
       "\\item C\n",
       "\\item C\n",
       "\\item C\n",
       "\\item C\n",
       "\\item C\n",
       "\\item C\n",
       "\\item C\n",
       "\\item C\n",
       "\\item C\n",
       "\\item C\n",
       "\\item C\n",
       "\\item C\n",
       "\\item C\n",
       "\\item C\n",
       "\\item C\n",
       "\\item C\n",
       "\\item T\n",
       "\\item T\n",
       "\\item T\n",
       "\\item T\n",
       "\\item T\n",
       "\\item T\n",
       "\\item T\n",
       "\\item T\n",
       "\\item T\n",
       "\\item T\n",
       "\\item T\n",
       "\\item T\n",
       "\\item T\n",
       "\\item T\n",
       "\\item T\n",
       "\\item T\n",
       "\\item T\n",
       "\\item T\n",
       "\\item T\n",
       "\\item T\n",
       "\\item T\n",
       "\\item T\n",
       "\\item T\n",
       "\\item T\n",
       "\\item T\n",
       "\\item T\n",
       "\\item T\n",
       "\\item T\n",
       "\\item T\n",
       "\\item T\n",
       "\\item T\n",
       "\\item T\n",
       "\\item T\n",
       "\\item T\n",
       "\\item T\n",
       "\\item T\n",
       "\\item T\n",
       "\\item T\n",
       "\\item T\n",
       "\\item T\n",
       "\\item T\n",
       "\\item T\n",
       "\\item T\n",
       "\\item T\n",
       "\\item T\n",
       "\\item T\n",
       "\\item T\n",
       "\\item T\n",
       "\\item T\n",
       "\\item T\n",
       "\\end{enumerate*}\n"
      ],
      "text/markdown": [
       "1. C\n",
       "2. C\n",
       "3. C\n",
       "4. C\n",
       "5. C\n",
       "6. C\n",
       "7. C\n",
       "8. C\n",
       "9. C\n",
       "10. C\n",
       "11. C\n",
       "12. C\n",
       "13. C\n",
       "14. C\n",
       "15. C\n",
       "16. C\n",
       "17. C\n",
       "18. C\n",
       "19. C\n",
       "20. C\n",
       "21. C\n",
       "22. C\n",
       "23. C\n",
       "24. C\n",
       "25. C\n",
       "26. C\n",
       "27. C\n",
       "28. C\n",
       "29. C\n",
       "30. C\n",
       "31. C\n",
       "32. C\n",
       "33. C\n",
       "34. C\n",
       "35. C\n",
       "36. C\n",
       "37. C\n",
       "38. C\n",
       "39. C\n",
       "40. C\n",
       "41. C\n",
       "42. C\n",
       "43. C\n",
       "44. C\n",
       "45. C\n",
       "46. C\n",
       "47. C\n",
       "48. C\n",
       "49. C\n",
       "50. C\n",
       "51. T\n",
       "52. T\n",
       "53. T\n",
       "54. T\n",
       "55. T\n",
       "56. T\n",
       "57. T\n",
       "58. T\n",
       "59. T\n",
       "60. T\n",
       "61. T\n",
       "62. T\n",
       "63. T\n",
       "64. T\n",
       "65. T\n",
       "66. T\n",
       "67. T\n",
       "68. T\n",
       "69. T\n",
       "70. T\n",
       "71. T\n",
       "72. T\n",
       "73. T\n",
       "74. T\n",
       "75. T\n",
       "76. T\n",
       "77. T\n",
       "78. T\n",
       "79. T\n",
       "80. T\n",
       "81. T\n",
       "82. T\n",
       "83. T\n",
       "84. T\n",
       "85. T\n",
       "86. T\n",
       "87. T\n",
       "88. T\n",
       "89. T\n",
       "90. T\n",
       "91. T\n",
       "92. T\n",
       "93. T\n",
       "94. T\n",
       "95. T\n",
       "96. T\n",
       "97. T\n",
       "98. T\n",
       "99. T\n",
       "100. T\n",
       "\n",
       "\n"
      ],
      "text/plain": [
       "  [1] C C C C C C C C C C C C C C C C C C C C C C C C C C C C C C C C C C C C C\n",
       " [38] C C C C C C C C C C C C C T T T T T T T T T T T T T T T T T T T T T T T T\n",
       " [75] T T T T T T T T T T T T T T T T T T T T T T T T T T\n",
       "Levels: C T"
      ]
     },
     "metadata": {},
     "output_type": "display_data"
    }
   ],
   "source": [
    "d$f # factor class"
   ]
  },
  {
   "cell_type": "code",
   "execution_count": 214,
   "metadata": {},
   "outputs": [
    {
     "data": {
      "text/html": [
       "'data.frame'"
      ],
      "text/latex": [
       "'data.frame'"
      ],
      "text/markdown": [
       "'data.frame'"
      ],
      "text/plain": [
       "[1] \"data.frame\""
      ]
     },
     "metadata": {},
     "output_type": "display_data"
    }
   ],
   "source": [
    "class(d)"
   ]
  },
  {
   "cell_type": "code",
   "execution_count": 215,
   "metadata": {},
   "outputs": [
    {
     "data": {
      "text/html": [
       "'integer'"
      ],
      "text/latex": [
       "'integer'"
      ],
      "text/markdown": [
       "'integer'"
      ],
      "text/plain": [
       "[1] \"integer\""
      ]
     },
     "metadata": {},
     "output_type": "display_data"
    }
   ],
   "source": [
    "class(d$y)"
   ]
  },
  {
   "cell_type": "code",
   "execution_count": 216,
   "metadata": {},
   "outputs": [
    {
     "data": {
      "text/html": [
       "'factor'"
      ],
      "text/latex": [
       "'factor'"
      ],
      "text/markdown": [
       "'factor'"
      ],
      "text/plain": [
       "[1] \"factor\""
      ]
     },
     "metadata": {},
     "output_type": "display_data"
    }
   ],
   "source": [
    "class(d$f)"
   ]
  },
  {
   "cell_type": "code",
   "execution_count": 217,
   "metadata": {},
   "outputs": [
    {
     "data": {
      "text/plain": [
       "       y               x          f     \n",
       " Min.   : 2.00   Min.   : 7.190   C:50  \n",
       " 1st Qu.: 6.00   1st Qu.: 9.428   T:50  \n",
       " Median : 8.00   Median :10.155         \n",
       " Mean   : 7.83   Mean   :10.089         \n",
       " 3rd Qu.:10.00   3rd Qu.:10.685         \n",
       " Max.   :15.00   Max.   :12.400         "
      ]
     },
     "metadata": {},
     "output_type": "display_data"
    }
   ],
   "source": [
    "summary(d)"
   ]
  },
  {
   "cell_type": "code",
   "execution_count": 218,
   "metadata": {},
   "outputs": [
    {
     "data": {
      "image/png": "[encoded data removed]",
      "text/plain": [
       "plot without title"
      ]
     },
     "metadata": {},
     "output_type": "display_data"
    }
   ],
   "source": [
    "plot(d$x, d$y, pch = c(21,19)[d$f])\n",
    "legend(\"topleft\", legend = c(\"C\", \"T\"), pch = c(21,19))"
   ]
  },
  {
   "cell_type": "code",
   "execution_count": 219,
   "metadata": {},
   "outputs": [
    {
     "data": {
      "image/png": "[encoded data removed]",
      "text/plain": [
       "plot without title"
      ]
     },
     "metadata": {},
     "output_type": "display_data"
    }
   ],
   "source": [
    "plot(d$f, d$y)"
   ]
  },
  {
   "cell_type": "markdown",
   "metadata": {},
   "source": [
    "### 線形予測子と対応リンク関数"
   ]
  },
  {
   "cell_type": "markdown",
   "metadata": {},
   "source": [
    "個体iにおいて種子数が$y_i$である確率$p(y_i\\;|\\;\\lambda_i$)はポアソン分布\n",
    "$$p(y_i\\;|\\;\\lambda_i) = \\frac{\\lambda^{y_i}_iexp(-\\lambda)}{y_i!}$$\n",
    "\n",
    "に従っていると仮定する\n",
    "\n",
    "ある個体iの平均種子数$\\lambda_i$が\n",
    "$$\\lambda_i = exp(\\beta_1+\\beta_2x_i)$$\n",
    "であるとする\n",
    "\n",
    "これは$$\\log\\lambda_i = \\beta_1+ \\beta_2 x_i$$と変形できる。右辺を線形予測子、左辺をリンク関数と呼ぶ"
   ]
  },
  {
   "cell_type": "code",
   "execution_count": 220,
   "metadata": {},
   "outputs": [
    {
     "data": {
      "image/png": "[encoded data removed]",
      "text/plain": [
       "plot without title"
      ]
     },
     "metadata": {},
     "output_type": "display_data"
    }
   ],
   "source": [
    "lambda_i <- function(beta1,beta2,x_i) exp(beta1 + beta2*x_i)\n",
    "x_i <- seq(-4,5,0.1)\n",
    "plot(x_i, sapply(-2,-0.8,x_i,FUN = lambda_i), type=\"l\", lty=5, ylim=c(0,3),ylab=\"\")\n",
    "par(new=T)\n",
    "plot(x_i, sapply(-1,0.4,x_i,FUN = lambda_i), type=\"l\", lty=1,ylim=c(0,3),ylab=\"lambda_i\")"
   ]
  },
  {
   "cell_type": "markdown",
   "metadata": {},
   "source": [
    "ポアソン回帰　→　観測データに関するポアソン分布をつかった統計モデルのあてはめ(fitting),対数尤度(logL)が最大になるようにパラメータの推定値をきめる\n",
    "\n",
    "データ　Y　のもとでの、このモデルの対数尤度は\n",
    "$$\\log L (\\beta_1,\\beta_2)=\\sum_i\\log\\frac{\\lambda^{y_i}_i\\exp(-\\lambda_i)}{y_i!}$$"
   ]
  },
  {
   "cell_type": "code",
   "execution_count": 221,
   "metadata": {
    "collapsed": true
   },
   "outputs": [],
   "source": [
    "fit <- glm(y~x, data = d, family =poisson)"
   ]
  },
  {
   "cell_type": "code",
   "execution_count": 222,
   "metadata": {},
   "outputs": [
    {
     "data": {
      "text/plain": [
       "\n",
       "Call:  glm(formula = y ~ x, family = poisson, data = d)\n",
       "\n",
       "Coefficients:\n",
       "(Intercept)            x  \n",
       "    1.29172      0.07566  \n",
       "\n",
       "Degrees of Freedom: 99 Total (i.e. Null);  98 Residual\n",
       "Null Deviance:\t    89.51 \n",
       "Residual Deviance: 84.99 \tAIC: 474.8"
      ]
     },
     "metadata": {},
     "output_type": "display_data"
    }
   ],
   "source": [
    "fit"
   ]
  },
  {
   "cell_type": "code",
   "execution_count": 223,
   "metadata": {},
   "outputs": [
    {
     "data": {
      "text/plain": [
       "\n",
       "Call:\n",
       "glm(formula = y ~ x, family = poisson, data = d)\n",
       "\n",
       "Deviance Residuals: \n",
       "    Min       1Q   Median       3Q      Max  \n",
       "-2.3679  -0.7348  -0.1775   0.6987   2.3760  \n",
       "\n",
       "Coefficients:\n",
       "            Estimate Std. Error z value Pr(>|z|)    \n",
       "(Intercept)  1.29172    0.36369   3.552 0.000383 ***\n",
       "x            0.07566    0.03560   2.125 0.033580 *  \n",
       "---\n",
       "Signif. codes:  0 ‘***’ 0.001 ‘**’ 0.01 ‘*’ 0.05 ‘.’ 0.1 ‘ ’ 1\n",
       "\n",
       "(Dispersion parameter for poisson family taken to be 1)\n",
       "\n",
       "    Null deviance: 89.507  on 99  degrees of freedom\n",
       "Residual deviance: 84.993  on 98  degrees of freedom\n",
       "AIC: 474.77\n",
       "\n",
       "Number of Fisher Scoring iterations: 4\n"
      ]
     },
     "metadata": {},
     "output_type": "display_data"
    }
   ],
   "source": [
    "summary(fit)"
   ]
  },
  {
   "cell_type": "markdown",
   "metadata": {},
   "source": [
    "\n",
    "intercept = 切片$\\beta_1$\n",
    "x = $\\beta_2$\n",
    "\n",
    "estimate = 最尤推定値であることを表す\n",
    "\n",
    "std.Error = パラメータの標準誤差の推定値(SE), βのばらつきを標準偏差で表している\n",
    "            \n",
    " 推定のばらつきが正規分布であると仮定しさらに対数尤度関数は最大値付近で正規分布に近いかたちであると仮定した場合\n",
    "\n",
    "z value =  最尤推定値/SE, Wald統計量(Wald statistic)\n",
    "           \n",
    " これによりwald信頼区間が形成でき、推定値が十分にゼロから離れているかどうかの一定の目安となる\n",
    "           \n",
    "Pr(>|z|) = (このGLMに関しては）平均がz値の絶対値であり標準偏差が１の正規分布における、マイナス無限大からゼロまでの値をとる確率の２倍\n",
    "            \n",
    "   この値が大きいほど推定値$\\;\\hat{\\beta}\\;$がゼロに近いことを表現する方法のひとつ。P値にみたてて検定したり信頼区間を近似的にだせたり"
   ]
  },
  {
   "cell_type": "markdown",
   "metadata": {},
   "source": [
    "## 最大対数尤度(maximum log likelihood)\n",
    "\n",
    "この本においてはあてはまりのよさ(goodness of fit)\n",
    "\n",
    "対数尤度が最大（つまりは最尤推定値になっている）ときの対数尤度"
   ]
  },
  {
   "cell_type": "code",
   "execution_count": 224,
   "metadata": {},
   "outputs": [
    {
     "data": {
      "text/plain": [
       "'log Lik.' -235.3863 (df=2)"
      ]
     },
     "metadata": {},
     "output_type": "display_data"
    }
   ],
   "source": [
    "logLik(fit) # 最大対数尤度の評価　df　＝　degrees of freedom 自由度"
   ]
  },
  {
   "cell_type": "markdown",
   "metadata": {},
   "source": [
    "# ポアソン回帰モデルによる予測\n",
    "上記ででたβの推定値をつかう\n",
    "$$\\lambda = \\exp(1.29 + 0.0757x)$$"
   ]
  },
  {
   "cell_type": "code",
   "execution_count": 225,
   "metadata": {},
   "outputs": [
    {
     "data": {
      "image/png": "[encoded data removed]",
      "text/plain": [
       "plot without title"
      ]
     },
     "metadata": {},
     "output_type": "display_data"
    }
   ],
   "source": [
    "plot(d$x, d$y,pch= c(21,19)[d$f])\n",
    "xx <- seq(min(d$x), max(d$x), length=100)\n",
    "lines(xx, exp(1.29 + 0.0757 * xx), lwd=2)"
   ]
  },
  {
   "cell_type": "code",
   "execution_count": 226,
   "metadata": {},
   "outputs": [
    {
     "data": {
      "image/png": "[encoded data removed]",
      "text/plain": [
       "plot without title"
      ]
     },
     "metadata": {},
     "output_type": "display_data"
    }
   ],
   "source": [
    "plot(d$x, d$y,pch= c(21,19)[d$f])\n",
    "yy <- predict(fit,type=\"response\", newdata = data.frame(x = xx))\n",
    "lines(xx, yy, lwd =2)"
   ]
  },
  {
   "cell_type": "markdown",
   "metadata": {
    "collapsed": true
   },
   "source": [
    "## 3.5 説明変数が因子型の統計モデル\n",
    "\n",
    "堆肥効果$\\:f_i\\:$を説明変数として組み込んだモデルの検討←因子型のデータとして保存してある(C or T)\n",
    "\n",
    "因子型の説明変数（カテゴリ変数）はダミー変数(dummy variable)におきかえられる\n",
    "\n",
    "植物の体サイズ$x_i$を無視して、堆肥効果$f_i$のみが影響するモデルの平均値は\n",
    "$$\\lambda_i = exp(\\beta_1+\\beta_3d_i)$$\n",
    "\n",
    "$\\beta_1$ = 切片\n",
    "\n",
    "$\\beta_3$ = 堆肥の効果\n",
    "\n",
    "ここでは$f_i$が置き換えられて$d_i$というダミー変数に置き換えられ、以下のような値をとる\n",
    "\n",
    "$$\n",
    "  d_i = \\left\\{ \\begin{array}{ll}\n",
    "    0 & (f_i = C の場合、堆肥なし) \\\\\n",
    "    1 & (f_i = T の場合、堆肥あり)\n",
    "  \\end{array} \\right.\n",
    "$$\n",
    "\n",
    "$d_i=0$で$\\lambda=exp(\\beta_1)$、　$d_i = 1$で$\\lambda = exp(\\beta_1+\\beta_3)$となる"
   ]
  },
  {
   "cell_type": "code",
   "execution_count": 227,
   "metadata": {
    "collapsed": true
   },
   "outputs": [],
   "source": [
    "# Rではとくに工夫もなく指定もなくつかえる\n",
    "fit.f <- glm(y ~ f, data = d, family = poisson)"
   ]
  },
  {
   "cell_type": "code",
   "execution_count": 228,
   "metadata": {},
   "outputs": [
    {
     "data": {
      "text/plain": [
       "\n",
       "Call:  glm(formula = y ~ f, family = poisson, data = d)\n",
       "\n",
       "Coefficients:\n",
       "(Intercept)           fT  \n",
       "    2.05156      0.01277  \n",
       "\n",
       "Degrees of Freedom: 99 Total (i.e. Null);  98 Residual\n",
       "Null Deviance:\t    89.51 \n",
       "Residual Deviance: 89.48 \tAIC: 479.3"
      ]
     },
     "metadata": {},
     "output_type": "display_data"
    }
   ],
   "source": [
    "fit.f"
   ]
  },
  {
   "cell_type": "markdown",
   "metadata": {
    "collapsed": true
   },
   "source": [
    "個体iの$f_i$がCならば\n",
    "$$\\lambda_i = exp(2.05+0)=0.77$$\n",
    "\n",
    "Tならば\n",
    "$$\\lambda_i = exp(2.05+0.0128)=7.87$$"
   ]
  },
  {
   "cell_type": "code",
   "execution_count": 229,
   "metadata": {},
   "outputs": [
    {
     "data": {
      "text/plain": [
       "'log Lik.' -237.6273 (df=2)"
      ]
     },
     "metadata": {},
     "output_type": "display_data"
    }
   ],
   "source": [
    "logLik(fit.f)"
   ]
  },
  {
   "cell_type": "markdown",
   "metadata": {},
   "source": [
    "## 3.6 説明変数が数量型＋因子型のモデル\n",
    "\n",
    "体サイズ$x_i$と堆肥効果$f_i$の複数の説明変数を使った統計モデル\n",
    "\n",
    "GLMでは線形予測子の中で和として表現する\n",
    "$$\\log\\lambda_i = \\beta_i + \\beta_2x_i + \\beta_3d_i$$"
   ]
  },
  {
   "cell_type": "code",
   "execution_count": 230,
   "metadata": {
    "collapsed": true
   },
   "outputs": [],
   "source": [
    "fit.all <- glm(y ~ x + f, data = d, family = poisson)"
   ]
  },
  {
   "cell_type": "code",
   "execution_count": 231,
   "metadata": {
    "scrolled": false
   },
   "outputs": [
    {
     "data": {
      "text/plain": [
       "\n",
       "Call:  glm(formula = y ~ x + f, family = poisson, data = d)\n",
       "\n",
       "Coefficients:\n",
       "(Intercept)            x           fT  \n",
       "    1.26311      0.08007     -0.03200  \n",
       "\n",
       "Degrees of Freedom: 99 Total (i.e. Null);  97 Residual\n",
       "Null Deviance:\t    89.51 \n",
       "Residual Deviance: 84.81 \tAIC: 476.6"
      ]
     },
     "metadata": {},
     "output_type": "display_data"
    }
   ],
   "source": [
    "fit.all"
   ]
  },
  {
   "cell_type": "markdown",
   "metadata": {},
   "source": [
    "\n",
    "上の結果では堆肥効果fTがマイナスだと推定されている\n",
    "\n",
    "対応リンク関数では要因の効果が積で表される\n",
    "$$\\lambda_i = exp(1.26 + 0.08x_i -　0.032)\\\\\n",
    "\\lambda_i = exp(1.26) * exp(0.08x_i) * exp(-0.032)\\\\\n",
    "= （定数）＊（サイズの効果）＊（堆肥処理の効果）$$"
   ]
  },
  {
   "cell_type": "code",
   "execution_count": 232,
   "metadata": {},
   "outputs": [
    {
     "data": {
      "text/html": [
       "0.968506582079198"
      ],
      "text/latex": [
       "0.968506582079198"
      ],
      "text/markdown": [
       "0.968506582079198"
      ],
      "text/plain": [
       "[1] 0.9685066"
      ]
     },
     "metadata": {},
     "output_type": "display_data"
    }
   ],
   "source": [
    "exp(-0.032)"
   ]
  },
  {
   "cell_type": "code",
   "execution_count": 233,
   "metadata": {},
   "outputs": [
    {
     "data": {
      "text/plain": [
       "\n",
       "Call:  glm(formula = y ~ x, family = gaussian(link = \"log\"), data = d)\n",
       "\n",
       "Coefficients:\n",
       "(Intercept)            x  \n",
       "    1.33951      0.07098  \n",
       "\n",
       "Degrees of Freedom: 99 Total (i.e. Null);  98 Residual\n",
       "Null Deviance:\t    682.1 \n",
       "Residual Deviance: 648.9 \tAIC: 476.8"
      ]
     },
     "metadata": {},
     "output_type": "display_data"
    }
   ],
   "source": [
    "glm(y~x, data = d, family = gaussian(link=\"log\"))"
   ]
  },
  {
   "cell_type": "markdown",
   "metadata": {
    "collapsed": true
   },
   "source": [
    "## GLMのモデル選択-AICとモデルの予測の良さ-\n",
    "\n",
    "良いモデルとはなにか？→最大対数尤度(maximum log likelihood)か？\n",
    "\n",
    "まず逸脱度(deviance)について\n",
    "\n",
    "逸脱度:あてはまりのわるさ.最大対数尤度を変形したやつ\n",
    "\n",
    "簡易化のため対数尤度($logL({\\beta_i})$)をlogL,最大対数尤度は$logL^*$と表記する。\n",
    "逸脱度は\n",
    "$$D = -2logL^*$$\n",
    "と定義される( 式の形は$\\chi^2$分布と対応関係がよくなるため）\n",
    "\n",
    "最小逸脱度：フルモデル（データ数＝パラメーター数）を当てはめた時のD\n",
    "\n",
    "Residual Deviance(残差逸脱度）： D - (フルモデルによるポアソン分布で可能な最小の逸脱度）\n",
    "\n",
    "最大逸脱度：NULLmodelをあてはめた時のD\n",
    "\n",
    "Null逸脱度：最大のDー最小のD\n"
   ]
  },
  {
   "cell_type": "code",
   "execution_count": 234,
   "metadata": {},
   "outputs": [
    {
     "data": {
      "text/plain": [
       "'log Lik.' -235.3863 (df=2)"
      ]
     },
     "metadata": {},
     "output_type": "display_data"
    }
   ],
   "source": [
    "logLik(fit)"
   ]
  },
  {
   "cell_type": "code",
   "execution_count": 235,
   "metadata": {},
   "outputs": [
    {
     "data": {
      "text/html": [
       "470.8"
      ],
      "text/latex": [
       "470.8"
      ],
      "text/markdown": [
       "470.8"
      ],
      "text/plain": [
       "[1] 470.8"
      ]
     },
     "metadata": {},
     "output_type": "display_data"
    }
   ],
   "source": [
    "-2*-235.4"
   ]
  },
  {
   "cell_type": "markdown",
   "metadata": {},
   "source": [
    "しかしglm()で求めると"
   ]
  },
  {
   "cell_type": "code",
   "execution_count": 306,
   "metadata": {},
   "outputs": [
    {
     "data": {
      "text/plain": [
       "\n",
       "Call:  glm(formula = y ~ x, family = poisson, data = d)\n",
       "\n",
       "Coefficients:\n",
       "(Intercept)            x  \n",
       "    1.29172      0.07566  \n",
       "\n",
       "Degrees of Freedom: 99 Total (i.e. Null);  98 Residual\n",
       "Null Deviance:\t    89.51 \n",
       "Residual Deviance: 84.99 \tAIC: 474.8"
      ]
     },
     "metadata": {},
     "output_type": "display_data"
    }
   ],
   "source": [
    "fit"
   ]
  },
  {
   "cell_type": "markdown",
   "metadata": {
    "collapsed": true
   },
   "source": [
    "　　\n",
    "\n",
    "\n",
    "470.8という値は見当たらない\n",
    "\n",
    "代わりにNull deviance,Residual Devianceがある\n",
    "\n",
    "residual deviance:D-(ポアソン分布で可能な最小の逸脱度）\n",
    "\n",
    "最小逸脱度とは、full modelつまりデータと同じだけのパラメータをつかって当てはめたモデルの逸脱度\n",
    "\n",
    "→当然統計モデルとして意味なし"
   ]
  },
  {
   "cell_type": "code",
   "execution_count": 237,
   "metadata": {
    "collapsed": true
   },
   "outputs": [],
   "source": [
    "devi <- sum(log(dpois(d$y, lambda = d$y)))#最小逸脱度"
   ]
  },
  {
   "cell_type": "code",
   "execution_count": 238,
   "metadata": {},
   "outputs": [
    {
     "data": {
      "text/html": [
       "-192.889752524496"
      ],
      "text/latex": [
       "-192.889752524496"
      ],
      "text/markdown": [
       "-192.889752524496"
      ],
      "text/plain": [
       "[1] -192.8898"
      ]
     },
     "metadata": {},
     "output_type": "display_data"
    }
   ],
   "source": [
    "devi"
   ]
  },
  {
   "cell_type": "code",
   "execution_count": 239,
   "metadata": {},
   "outputs": [
    {
     "data": {
      "text/html": [
       "85.020494951008"
      ],
      "text/latex": [
       "85.020494951008"
      ],
      "text/markdown": [
       "85.020494951008"
      ],
      "text/plain": [
       "[1] 85.02049"
      ]
     },
     "metadata": {},
     "output_type": "display_data"
    }
   ],
   "source": [
    "(-2*-235.4)-(-2*devi)#residual deviance 前のと一致"
   ]
  },
  {
   "cell_type": "markdown",
   "metadata": {},
   "source": [
    "残差逸脱度の最大値を考えてみる\n",
    "\n",
    "もっともあてはまりの悪いモデル→このポアソン回帰ではもっともパラメータ数の少ないモデル、切片のみ$\\lambda_i = exp(\\beta_1)$\n",
    "\n",
    "これをnull modelと呼ぶ"
   ]
  },
  {
   "cell_type": "code",
   "execution_count": 264,
   "metadata": {
    "collapsed": true
   },
   "outputs": [],
   "source": [
    "fit.null <- glm(formula = y~1, family = poisson, data=d) # null model"
   ]
  },
  {
   "cell_type": "code",
   "execution_count": 265,
   "metadata": {},
   "outputs": [
    {
     "data": {
      "text/plain": [
       "\n",
       "Call:  glm(formula = y ~ 1, family = poisson, data = d)\n",
       "\n",
       "Coefficients:\n",
       "(Intercept)  \n",
       "      2.058  \n",
       "\n",
       "Degrees of Freedom: 99 Total (i.e. Null);  99 Residual\n",
       "Null Deviance:\t    89.51 \n",
       "Residual Deviance: 89.51 \tAIC: 477.3"
      ]
     },
     "metadata": {},
     "output_type": "display_data"
    }
   ],
   "source": [
    "fit.null"
   ]
  },
  {
   "cell_type": "code",
   "execution_count": 242,
   "metadata": {},
   "outputs": [
    {
     "data": {
      "text/plain": [
       "'log Lik.' -237.6432 (df=1)"
      ]
     },
     "metadata": {},
     "output_type": "display_data"
    }
   ],
   "source": [
    "logLik(fit.null)"
   ]
  },
  {
   "cell_type": "markdown",
   "metadata": {},
   "source": [
    "よって逸脱度は約473.5残差逸脱度は89.5\n",
    "パラメーター数の増やせば残差逸脱度はどんどん小さくなる"
   ]
  },
  {
   "cell_type": "markdown",
   "metadata": {},
   "source": [
    "# モデル選択基準AIC\n",
    "\n",
    "\n",
    "パラメーター数を増やす事によって予測の良さを損なっていないか？\n",
    "\n",
    "AIC ⇨　予測の良さを統計モデルの良さとして扱う\n",
    "\n",
    "### AIC = -2{（最大対数尤度）- （最尤推定したパラメーター数）}  \n",
    "   \n",
    "###    = -2(logL* - k)  \n",
    "    \n",
    "###    = D + 2k\n",
    "    \n",
    "    逸脱度　+　パラメータ数　×２\n",
    "    \n",
    "これが一番小さいモデルがいいモデル"
   ]
  },
  {
   "cell_type": "code",
   "execution_count": 315,
   "metadata": {},
   "outputs": [],
   "source": [
    "test_data <- matrix(rpois(50*200,lambda=8),nrow=50,ncol=200)"
   ]
  },
  {
   "cell_type": "code",
   "execution_count": 316,
   "metadata": {},
   "outputs": [],
   "source": [
    "test_data <- data.frame(test_data)"
   ]
  },
  {
   "cell_type": "code",
   "execution_count": 317,
   "metadata": {},
   "outputs": [
    {
     "data": {
      "text/html": [
       "<table>\n",
       "<thead><tr><th scope=col>X1</th><th scope=col>X2</th><th scope=col>X3</th><th scope=col>X4</th><th scope=col>X5</th><th scope=col>X6</th><th scope=col>X7</th><th scope=col>X8</th><th scope=col>X9</th><th scope=col>X10</th><th scope=col>⋯</th><th scope=col>X191</th><th scope=col>X192</th><th scope=col>X193</th><th scope=col>X194</th><th scope=col>X195</th><th scope=col>X196</th><th scope=col>X197</th><th scope=col>X198</th><th scope=col>X199</th><th scope=col>X200</th></tr></thead>\n",
       "<tbody>\n",
       "\t<tr><td> 5</td><td>12</td><td> 5</td><td>11</td><td>10</td><td> 6</td><td> 5</td><td>6 </td><td> 8</td><td> 5</td><td>⋯ </td><td> 4</td><td>13</td><td> 7</td><td>4 </td><td>10</td><td> 9</td><td> 5</td><td> 9</td><td> 9</td><td> 6</td></tr>\n",
       "\t<tr><td> 7</td><td> 6</td><td> 8</td><td> 8</td><td> 3</td><td>10</td><td> 6</td><td>5 </td><td> 9</td><td> 6</td><td>⋯ </td><td> 7</td><td> 7</td><td> 8</td><td>8 </td><td> 7</td><td> 8</td><td>10</td><td> 6</td><td>10</td><td>12</td></tr>\n",
       "\t<tr><td> 2</td><td>10</td><td>10</td><td> 7</td><td>14</td><td> 8</td><td> 7</td><td>9 </td><td>13</td><td>12</td><td>⋯ </td><td> 7</td><td>10</td><td> 8</td><td>5 </td><td> 9</td><td> 9</td><td> 8</td><td>11</td><td>11</td><td> 9</td></tr>\n",
       "\t<tr><td> 7</td><td> 9</td><td> 8</td><td>12</td><td>12</td><td>12</td><td>11</td><td>8 </td><td> 6</td><td> 6</td><td>⋯ </td><td> 7</td><td> 8</td><td> 8</td><td>9 </td><td> 8</td><td> 6</td><td> 8</td><td>11</td><td> 8</td><td> 9</td></tr>\n",
       "\t<tr><td>11</td><td> 7</td><td> 3</td><td> 6</td><td> 4</td><td>12</td><td> 5</td><td>7 </td><td> 7</td><td> 9</td><td>⋯ </td><td>14</td><td> 9</td><td> 6</td><td>7 </td><td> 5</td><td>10</td><td>10</td><td> 9</td><td>11</td><td> 3</td></tr>\n",
       "\t<tr><td>13</td><td> 6</td><td> 9</td><td>11</td><td> 7</td><td> 8</td><td> 8</td><td>7 </td><td> 4</td><td> 3</td><td>⋯ </td><td>13</td><td> 8</td><td>12</td><td>6 </td><td> 5</td><td> 9</td><td> 7</td><td> 8</td><td>11</td><td>10</td></tr>\n",
       "</tbody>\n",
       "</table>\n"
      ],
      "text/latex": [
       "\\begin{tabular}{r|llllllllllllllllllllllllllllllllllllllllllllllllllllllllllllllllllllllllllllllllllllllllllllllllllllllllllllllllllllllllllllllllllllllllllllllllllllllllllllllllllllllllllllllllllllllllllllllllllllllll}\n",
       " X1 & X2 & X3 & X4 & X5 & X6 & X7 & X8 & X9 & X10 & ⋯ & X191 & X192 & X193 & X194 & X195 & X196 & X197 & X198 & X199 & X200\\\\\n",
       "\\hline\n",
       "\t  5 & 12 &  5 & 11 & 10 &  6 &  5 & 6  &  8 &  5 & ⋯  &  4 & 13 &  7 & 4  & 10 &  9 &  5 &  9 &  9 &  6\\\\\n",
       "\t  7 &  6 &  8 &  8 &  3 & 10 &  6 & 5  &  9 &  6 & ⋯  &  7 &  7 &  8 & 8  &  7 &  8 & 10 &  6 & 10 & 12\\\\\n",
       "\t  2 & 10 & 10 &  7 & 14 &  8 &  7 & 9  & 13 & 12 & ⋯  &  7 & 10 &  8 & 5  &  9 &  9 &  8 & 11 & 11 &  9\\\\\n",
       "\t  7 &  9 &  8 & 12 & 12 & 12 & 11 & 8  &  6 &  6 & ⋯  &  7 &  8 &  8 & 9  &  8 &  6 &  8 & 11 &  8 &  9\\\\\n",
       "\t 11 &  7 &  3 &  6 &  4 & 12 &  5 & 7  &  7 &  9 & ⋯  & 14 &  9 &  6 & 7  &  5 & 10 & 10 &  9 & 11 &  3\\\\\n",
       "\t 13 &  6 &  9 & 11 &  7 &  8 &  8 & 7  &  4 &  3 & ⋯  & 13 &  8 & 12 & 6  &  5 &  9 &  7 &  8 & 11 & 10\\\\\n",
       "\\end{tabular}\n"
      ],
      "text/markdown": [
       "\n",
       "X1 | X2 | X3 | X4 | X5 | X6 | X7 | X8 | X9 | X10 | ⋯ | X191 | X192 | X193 | X194 | X195 | X196 | X197 | X198 | X199 | X200 | \n",
       "|---|---|---|---|---|---|\n",
       "|  5 | 12 |  5 | 11 | 10 |  6 |  5 | 6  |  8 |  5 | ⋯  |  4 | 13 |  7 | 4  | 10 |  9 |  5 |  9 |  9 |  6 | \n",
       "|  7 |  6 |  8 |  8 |  3 | 10 |  6 | 5  |  9 |  6 | ⋯  |  7 |  7 |  8 | 8  |  7 |  8 | 10 |  6 | 10 | 12 | \n",
       "|  2 | 10 | 10 |  7 | 14 |  8 |  7 | 9  | 13 | 12 | ⋯  |  7 | 10 |  8 | 5  |  9 |  9 |  8 | 11 | 11 |  9 | \n",
       "|  7 |  9 |  8 | 12 | 12 | 12 | 11 | 8  |  6 |  6 | ⋯  |  7 |  8 |  8 | 9  |  8 |  6 |  8 | 11 |  8 |  9 | \n",
       "| 11 |  7 |  3 |  6 |  4 | 12 |  5 | 7  |  7 |  9 | ⋯  | 14 |  9 |  6 | 7  |  5 | 10 | 10 |  9 | 11 |  3 | \n",
       "| 13 |  6 |  9 | 11 |  7 |  8 |  8 | 7  |  4 |  3 | ⋯  | 13 |  8 | 12 | 6  |  5 |  9 |  7 |  8 | 11 | 10 | \n",
       "\n",
       "\n"
      ],
      "text/plain": [
       "  X1 X2 X3 X4 X5 X6 X7 X8 X9 X10 ⋯ X191 X192 X193 X194 X195 X196 X197 X198 X199\n",
       "1  5 12  5 11 10  6  5 6   8  5  ⋯  4   13    7   4    10    9    5    9    9  \n",
       "2  7  6  8  8  3 10  6 5   9  6  ⋯  7    7    8   8     7    8   10    6   10  \n",
       "3  2 10 10  7 14  8  7 9  13 12  ⋯  7   10    8   5     9    9    8   11   11  \n",
       "4  7  9  8 12 12 12 11 8   6  6  ⋯  7    8    8   9     8    6    8   11    8  \n",
       "5 11  7  3  6  4 12  5 7   7  9  ⋯ 14    9    6   7     5   10   10    9   11  \n",
       "6 13  6  9 11  7  8  8 7   4  3  ⋯ 13    8   12   6     5    9    7    8   11  \n",
       "  X200\n",
       "1  6  \n",
       "2 12  \n",
       "3  9  \n",
       "4  9  \n",
       "5  3  \n",
       "6 10  "
      ]
     },
     "metadata": {},
     "output_type": "display_data"
    }
   ],
   "source": [
    "head(test_data)"
   ]
  },
  {
   "cell_type": "code",
   "execution_count": 318,
   "metadata": {},
   "outputs": [],
   "source": [
    "beta_hat <- 2.04"
   ]
  },
  {
   "cell_type": "code",
   "execution_count": 319,
   "metadata": {},
   "outputs": [],
   "source": [
    "logL <- function(d) sum(dpois(d, exp(beta_hat), log=TRUE))"
   ]
  },
  {
   "cell_type": "code",
   "execution_count": 320,
   "metadata": {},
   "outputs": [
    {
     "data": {
      "text/html": [
       "<table>\n",
       "<thead><tr><th></th><th scope=col>logL</th></tr></thead>\n",
       "<tbody>\n",
       "\t<tr><th scope=row>X1</th><td>-127.4991</td></tr>\n",
       "\t<tr><th scope=row>X2</th><td>-113.3981</td></tr>\n",
       "\t<tr><th scope=row>X3</th><td>-117.3635</td></tr>\n",
       "\t<tr><th scope=row>X4</th><td>-110.8245</td></tr>\n",
       "\t<tr><th scope=row>X5</th><td>-122.8751</td></tr>\n",
       "\t<tr><th scope=row>X6</th><td>-126.9023</td></tr>\n",
       "</tbody>\n",
       "</table>\n"
      ],
      "text/latex": [
       "\\begin{tabular}{r|l}\n",
       "  & logL\\\\\n",
       "\\hline\n",
       "\tX1 & -127.4991\\\\\n",
       "\tX2 & -113.3981\\\\\n",
       "\tX3 & -117.3635\\\\\n",
       "\tX4 & -110.8245\\\\\n",
       "\tX5 & -122.8751\\\\\n",
       "\tX6 & -126.9023\\\\\n",
       "\\end{tabular}\n"
      ],
      "text/markdown": [
       "\n",
       "| <!--/--> | logL | \n",
       "|---|---|---|---|---|---|\n",
       "| X1 | -127.4991 | \n",
       "| X2 | -113.3981 | \n",
       "| X3 | -117.3635 | \n",
       "| X4 | -110.8245 | \n",
       "| X5 | -122.8751 | \n",
       "| X6 | -126.9023 | \n",
       "\n",
       "\n"
      ],
      "text/plain": [
       "   logL     \n",
       "X1 -127.4991\n",
       "X2 -113.3981\n",
       "X3 -117.3635\n",
       "X4 -110.8245\n",
       "X5 -122.8751\n",
       "X6 -126.9023"
      ]
     },
     "metadata": {},
     "output_type": "display_data"
    }
   ],
   "source": [
    "logL_test <- data.frame(logL=apply(test_data, 2, logL))\n",
    "head(logL_test)"
   ]
  },
  {
   "cell_type": "code",
   "execution_count": 321,
   "metadata": {
    "scrolled": true
   },
   "outputs": [
    {
     "data": {
      "text/html": [
       "-127.499130276734"
      ],
      "text/latex": [
       "-127.499130276734"
      ],
      "text/markdown": [
       "-127.499130276734"
      ],
      "text/plain": [
       "[1] -127.4991"
      ]
     },
     "metadata": {},
     "output_type": "display_data"
    }
   ],
   "source": [
    "mean(logL_test[1,])"
   ]
  },
  {
   "cell_type": "code",
   "execution_count": 286,
   "metadata": {
    "scrolled": false
   },
   "outputs": [
    {
     "data": {
      "text/plain": [
       "\n",
       "Call:  glm(formula = y ~ 1, family = poisson, data = data.frame(y = test_data[, \n",
       "    1]))\n",
       "\n",
       "Coefficients:\n",
       "(Intercept)  \n",
       "      2.026  \n",
       "\n",
       "Degrees of Freedom: 49 Total (i.e. Null);  49 Residual\n",
       "Null Deviance:\t    42.56 \n",
       "Residual Deviance: 42.56 \tAIC: 236"
      ]
     },
     "metadata": {},
     "output_type": "display_data"
    }
   ],
   "source": [
    "glm(formula= y~1 ,family=poisson,data=data.frame(y=test_data[,1]))"
   ]
  },
  {
   "cell_type": "code",
   "execution_count": 403,
   "metadata": {},
   "outputs": [],
   "source": [
    "mean_logL <- c()\n",
    "b <- c()\n",
    "beta_hat <- c()\n",
    "likelihood <- c()\n",
    "for (i in 1:12){\n",
    "    one_data <- data.frame(y=rpois(50, lambda=8))#データを一つ作成\n",
    "    fit_temp <- glm(formula= y~1 ,family=poisson,data=data.frame(y=one_data[,1]))#上のデータからパラメータの推定\n",
    "    beta_est <- fit_temp$coefficients[[1]]#パラメータを抽出\n",
    "    max_like <- logLik(fit_temp)#最大対数尤度の計算\n",
    "    eval_data <- matrix(rpois(50*200,lambda=8),nrow=50,ncol=200)#評価用データの作成\n",
    "    #列方向に対数尤度関数を作り、推定したパラメータを使って適用\n",
    "    logL_eval <- data.frame(logL=apply(eval_data, 2, function(d) sum(dpois(d, exp(beta_est), log=T))))\n",
    "    mean_logL <- append(mean_logL,mean(logL_eval[1,])) #それぞれの値をベクトルに追加\n",
    "    b <- append(b,(max_like-mean(logL_eval[1,])))\n",
    "    beta_hat <- append(beta_hat, beta_est)\n",
    "    likelihood <- append(likelihood, max_like)   \n",
    "}"
   ]
  },
  {
   "cell_type": "code",
   "execution_count": 404,
   "metadata": {},
   "outputs": [
    {
     "data": {
      "text/html": [
       "<table>\n",
       "<thead><tr><th scope=col>beta_hat</th><th scope=col>likelihood</th><th scope=col>mean_logL</th><th scope=col>b</th></tr></thead>\n",
       "<tbody>\n",
       "\t<tr><td>2.059239   </td><td>-122.6519  </td><td>-126.9815  </td><td>  4.3295621</td></tr>\n",
       "\t<tr><td>2.106570   </td><td>-120.6047  </td><td>-124.0851  </td><td>  3.4803368</td></tr>\n",
       "\t<tr><td>2.041220   </td><td>-118.7467  </td><td>-123.6803  </td><td>  4.9335352</td></tr>\n",
       "\t<tr><td>2.056685   </td><td>-121.4729  </td><td>-122.1310  </td><td>  0.6581562</td></tr>\n",
       "\t<tr><td>2.017566   </td><td>-122.1275  </td><td>-124.7573  </td><td>  2.6297977</td></tr>\n",
       "\t<tr><td>2.038620   </td><td>-117.0243  </td><td>-112.3496  </td><td> -4.6747455</td></tr>\n",
       "\t<tr><td>2.201659   </td><td>-127.3262  </td><td>-129.6682  </td><td>  2.3419482</td></tr>\n",
       "\t<tr><td>2.071913   </td><td>-113.0928  </td><td>-118.9920  </td><td>  5.8992071</td></tr>\n",
       "\t<tr><td>2.137710   </td><td>-128.1957  </td><td>-122.9800  </td><td> -5.2156869</td></tr>\n",
       "\t<tr><td>2.111425   </td><td>-118.7858  </td><td>-122.1161  </td><td>  3.3302943</td></tr>\n",
       "\t<tr><td>2.036012   </td><td>-117.3802  </td><td>-120.6134  </td><td>  3.2331270</td></tr>\n",
       "\t<tr><td>2.089392   </td><td>-131.5205  </td><td>-116.3393  </td><td>-15.1812619</td></tr>\n",
       "</tbody>\n",
       "</table>\n"
      ],
      "text/latex": [
       "\\begin{tabular}{r|llll}\n",
       " beta\\_hat & likelihood & mean\\_logL & b\\\\\n",
       "\\hline\n",
       "\t 2.059239    & -122.6519   & -126.9815   &   4.3295621\\\\\n",
       "\t 2.106570    & -120.6047   & -124.0851   &   3.4803368\\\\\n",
       "\t 2.041220    & -118.7467   & -123.6803   &   4.9335352\\\\\n",
       "\t 2.056685    & -121.4729   & -122.1310   &   0.6581562\\\\\n",
       "\t 2.017566    & -122.1275   & -124.7573   &   2.6297977\\\\\n",
       "\t 2.038620    & -117.0243   & -112.3496   &  -4.6747455\\\\\n",
       "\t 2.201659    & -127.3262   & -129.6682   &   2.3419482\\\\\n",
       "\t 2.071913    & -113.0928   & -118.9920   &   5.8992071\\\\\n",
       "\t 2.137710    & -128.1957   & -122.9800   &  -5.2156869\\\\\n",
       "\t 2.111425    & -118.7858   & -122.1161   &   3.3302943\\\\\n",
       "\t 2.036012    & -117.3802   & -120.6134   &   3.2331270\\\\\n",
       "\t 2.089392    & -131.5205   & -116.3393   & -15.1812619\\\\\n",
       "\\end{tabular}\n"
      ],
      "text/markdown": [
       "\n",
       "beta_hat | likelihood | mean_logL | b | \n",
       "|---|---|---|---|---|---|---|---|---|---|---|---|\n",
       "| 2.059239    | -122.6519   | -126.9815   |   4.3295621 | \n",
       "| 2.106570    | -120.6047   | -124.0851   |   3.4803368 | \n",
       "| 2.041220    | -118.7467   | -123.6803   |   4.9335352 | \n",
       "| 2.056685    | -121.4729   | -122.1310   |   0.6581562 | \n",
       "| 2.017566    | -122.1275   | -124.7573   |   2.6297977 | \n",
       "| 2.038620    | -117.0243   | -112.3496   |  -4.6747455 | \n",
       "| 2.201659    | -127.3262   | -129.6682   |   2.3419482 | \n",
       "| 2.071913    | -113.0928   | -118.9920   |   5.8992071 | \n",
       "| 2.137710    | -128.1957   | -122.9800   |  -5.2156869 | \n",
       "| 2.111425    | -118.7858   | -122.1161   |   3.3302943 | \n",
       "| 2.036012    | -117.3802   | -120.6134   |   3.2331270 | \n",
       "| 2.089392    | -131.5205   | -116.3393   | -15.1812619 | \n",
       "\n",
       "\n"
      ],
      "text/plain": [
       "   beta_hat likelihood mean_logL b          \n",
       "1  2.059239 -122.6519  -126.9815   4.3295621\n",
       "2  2.106570 -120.6047  -124.0851   3.4803368\n",
       "3  2.041220 -118.7467  -123.6803   4.9335352\n",
       "4  2.056685 -121.4729  -122.1310   0.6581562\n",
       "5  2.017566 -122.1275  -124.7573   2.6297977\n",
       "6  2.038620 -117.0243  -112.3496  -4.6747455\n",
       "7  2.201659 -127.3262  -129.6682   2.3419482\n",
       "8  2.071913 -113.0928  -118.9920   5.8992071\n",
       "9  2.137710 -128.1957  -122.9800  -5.2156869\n",
       "10 2.111425 -118.7858  -122.1161   3.3302943\n",
       "11 2.036012 -117.3802  -120.6134   3.2331270\n",
       "12 2.089392 -131.5205  -116.3393 -15.1812619"
      ]
     },
     "metadata": {},
     "output_type": "display_data"
    }
   ],
   "source": [
    "data.frame(beta_hat,likelihood,mean_logL,b)"
   ]
  },
  {
   "cell_type": "code",
   "execution_count": 405,
   "metadata": {
    "collapsed": true
   },
   "outputs": [],
   "source": [
    "b_2000 <- c()\n",
    "for (i in 1:2000){\n",
    "    one_data <- data.frame(y=rpois(50, lambda=8)) \n",
    "    fit_temp <- glm(formula= y~1 ,family=poisson,data=data.frame(y=one_data[,1]))\n",
    "    beta_est <- fit_temp$coefficients[[1]]\n",
    "    max_like <- logLik(fit_temp)\n",
    "    eval_data <- matrix(rpois(50*200,lambda=8),nrow=50,ncol=200)\n",
    "    logL_eval <- data.frame(logL=apply(eval_data, 2, function(d) sum(dpois(d, exp(beta_est), log=T))))\n",
    "    b_2000 <- append(b_2000,(max_like-mean(logL_eval[1,])))\n",
    "}"
   ]
  },
  {
   "cell_type": "code",
   "execution_count": 406,
   "metadata": {},
   "outputs": [
    {
     "data": {
      "text/html": [
       "0.95001255437269"
      ],
      "text/latex": [
       "0.95001255437269"
      ],
      "text/markdown": [
       "0.95001255437269"
      ],
      "text/plain": [
       "[1] 0.9500126"
      ]
     },
     "metadata": {},
     "output_type": "display_data"
    }
   ],
   "source": [
    "mean(b_2000)"
   ]
  },
  {
   "cell_type": "code",
   "execution_count": 407,
   "metadata": {},
   "outputs": [
    {
     "data": {
      "image/png": "[encoded data removed]",
      "text/plain": [
       "Plot with title “density.default(x = b_2000)”"
      ]
     },
     "metadata": {},
     "output_type": "display_data"
    }
   ],
   "source": [
    "plot(density(b_2000))\n",
    "abline(v=mean(b_2000),lty=2)"
   ]
  },
  {
   "cell_type": "code",
   "execution_count": null,
   "metadata": {
    "collapsed": true
   },
   "outputs": [],
   "source": []
  }
 ],
 "metadata": {
  "kernelspec": {
   "display_name": "R",
   "language": "R",
   "name": "ir"
  },
  "language_info": {
   "codemirror_mode": "r",
   "file_extension": ".r",
   "mimetype": "text/x-r-source",
   "name": "R",
   "pygments_lexer": "r",
   "version": "3.4.1"
  }
 },
 "nbformat": 4,
 "nbformat_minor": 2
}
